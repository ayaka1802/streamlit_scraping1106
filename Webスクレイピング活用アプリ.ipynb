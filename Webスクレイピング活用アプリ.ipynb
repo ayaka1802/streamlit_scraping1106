{
 "cells": [
  {
   "cell_type": "code",
   "execution_count": 1,
   "id": "raised-concrete",
   "metadata": {
    "collapsed": true,
    "jupyter": {
     "outputs_hidden": true
    }
   },
   "outputs": [
    {
     "name": "stdout",
     "output_type": "stream",
     "text": [
      "Requirement already satisfied: beautifulsoup4 in /usr/local/lib/python3.9/site-packages (4.9.3)\n",
      "Requirement already satisfied: soupsieve>1.2 in /usr/local/lib/python3.9/site-packages (from beautifulsoup4) (2.2.1)\n"
     ]
    }
   ],
   "source": [
    "!pip3 install beautifulsoup4"
   ]
  },
  {
   "cell_type": "code",
   "execution_count": 2,
   "id": "offensive-credits",
   "metadata": {},
   "outputs": [],
   "source": [
    "from bs4 import BeautifulSoup\n",
    "import requests"
   ]
  },
  {
   "cell_type": "code",
   "execution_count": 3,
   "id": "broken-specific",
   "metadata": {},
   "outputs": [],
   "source": [
    "url = 'https://scraping-for-beginner.herokuapp.com/udemy'"
   ]
  },
  {
   "cell_type": "code",
   "execution_count": 4,
   "id": "abandoned-sauce",
   "metadata": {},
   "outputs": [],
   "source": [
    "res = requests.get(url)"
   ]
  },
  {
   "cell_type": "code",
   "execution_count": 7,
   "id": "radio-valentine",
   "metadata": {},
   "outputs": [],
   "source": [
    "soup = BeautifulSoup(res.text, 'html.parser')"
   ]
  },
  {
   "cell_type": "code",
   "execution_count": 8,
   "id": "parallel-punch",
   "metadata": {
    "collapsed": true,
    "jupyter": {
     "outputs_hidden": true
    }
   },
   "outputs": [
    {
     "data": {
      "text/plain": [
       "<!DOCTYPE html>\n",
       "\n",
       "<html dir=\"ltr\" lang=\"en\">\n",
       "<head>\n",
       "<meta charset=\"utf-8\"/>\n",
       "<title>Webスクレイピング入門者のためのサイト</title>\n",
       "<!-- Compiled and minified CSS -->\n",
       "<link href=\"https://cdnjs.cloudflare.com/ajax/libs/materialize/1.0.0-rc.2/css/materialize.min.css\" rel=\"stylesheet\"/>\n",
       "<link href=\"https://fonts.googleapis.com/icon?family=Material+Icons\" rel=\"stylesheet\"/> \b\n",
       "  <link href=\"static/assets/css/style.css\" rel=\"stylesheet\"/>\n",
       "<link href=\"static/assets/css/udemy.css\" rel=\"stylesheet\"/>\n",
       "<!-- <link rel=\"stylesheet\" href=\"static/assets/css/mypage.css\"> -->\n",
       "</head>\n",
       "<body>\n",
       "<!-- Navbar -->\n",
       "<div class=\"navbar-fixed\">\n",
       "<!-- Dropdown Structure -->\n",
       "<nav class=\"\">\n",
       "<div class=\"nav-wrapper row\">\n",
       "<div class=\"col s5 l4 offset-s1 offset-l1\">\n",
       "<a class=\"brand-logo\" href=\"\b/\">Webスクレイピング入門</a>\n",
       "</div>\n",
       "<div class=\"col s5 l6\">\n",
       "<ul class=\"right hide-on-med-and-down\" id=\"nav-mobile\">\n",
       "<li><a class=\"\" href=\"\b/login_page\">ログイン</a></li>\n",
       "<li><a class=\"\" href=\"/ranking/\">ランキング</a></li>\n",
       "<li><a class=\"\" href=\"/image\">画像</a></li>\n",
       "<li><a class=\"\" href=\"/udemy\">Udemy</a></li>\n",
       "<li><a class=\"\" href=\"https://scraping-for-beginner.readthedocs.io/\" target=\"”_blank”\">サンプルコード</a></li>\n",
       "</ul>\n",
       "</div>\n",
       "</div>\n",
       "</nav>\n",
       "</div>\n",
       "<div class=\"row\">\n",
       "<div class=\"col s4 offset-s4\">\n",
       "<div class=\"overview\">\n",
       "<p>\n",
       "      こちらのページは、<b>PythonによるWebスクレイピング〜Webアプリケーション編〜</b>で使用します。\n",
       "      </p>\n",
       "</div>\n",
       "<div class=\"\">\n",
       "<div class=\"\">\n",
       "<div class=\"card\">\n",
       "<div class=\"card-image\">\n",
       "<img src=\"/static/assets/img/self-introduction.jpg\"/>\n",
       "<span class=\"card-title\">今西 航平</span>\n",
       "</div>\n",
       "<div class=\"card-content\">\n",
       "<p><b><p class=\"position\">株式会社キカガク 取締役副社長</p></b><br/>\n",
       "\n",
       "              東京理科大学在学中に株式会社キカガクに1人目の正社員としてジョイン。大学時代4年間、塾講師として「教育」に熱中し、300名以上の中高生の授業を担当。<br/>\n",
       "</p>\n",
       "</div>\n",
       "<div class=\"card-action\">\n",
       "<p class=\"subscribers\">受講生の数：11352</p>\n",
       "<p class=\"reviews\">レビューの数：1958</p>\n",
       "</div>\n",
       "</div>\n",
       "</div>\n",
       "</div>\n",
       "</div>\n",
       "</div>\n",
       "<!-- Compiled and minified JavaScript -->\n",
       "<script src=\"https://code.jquery.com/jquery-3.3.1.min.js\"></script>\n",
       "<script src=\"https://cdnjs.cloudflare.com/ajax/libs/materialize/1.0.0-rc.2/js/materialize.min.js\"></script>\n",
       "<script type=\"text/javascript\">\n",
       "    $(document).ready(function() {\n",
       "      $(\".dropdown-trigger\").dropdown();\n",
       "    });\n",
       "  </script>\n",
       "</body>\n",
       "</html>"
      ]
     },
     "execution_count": 8,
     "metadata": {},
     "output_type": "execute_result"
    }
   ],
   "source": [
    "soup"
   ]
  },
  {
   "cell_type": "code",
   "execution_count": 20,
   "id": "chubby-christmas",
   "metadata": {},
   "outputs": [
    {
     "data": {
      "text/plain": [
       "'受講生の数：11352'"
      ]
     },
     "execution_count": 20,
     "metadata": {},
     "output_type": "execute_result"
    }
   ],
   "source": [
    "n_subscriber = soup.find('p', {'class': 'subscribers'}).text\n",
    "n_subscriber"
   ]
  },
  {
   "cell_type": "code",
   "execution_count": 25,
   "id": "excess-bicycle",
   "metadata": {},
   "outputs": [],
   "source": [
    "n_subscriber = int(n_subscriber.split('：')[1])"
   ]
  },
  {
   "cell_type": "code",
   "execution_count": 26,
   "id": "celtic-wyoming",
   "metadata": {},
   "outputs": [
    {
     "data": {
      "text/plain": [
       "11352"
      ]
     },
     "execution_count": 26,
     "metadata": {},
     "output_type": "execute_result"
    }
   ],
   "source": [
    "n_subscriber"
   ]
  },
  {
   "cell_type": "code",
   "execution_count": 27,
   "id": "revised-bicycle",
   "metadata": {},
   "outputs": [
    {
     "data": {
      "text/plain": [
       "'レビューの数：1958'"
      ]
     },
     "execution_count": 27,
     "metadata": {},
     "output_type": "execute_result"
    }
   ],
   "source": [
    "n_review = soup.find('p', {'class': 'reviews'}).text\n",
    "n_review"
   ]
  },
  {
   "cell_type": "code",
   "execution_count": 28,
   "id": "distinguished-supply",
   "metadata": {},
   "outputs": [
    {
     "data": {
      "text/plain": [
       "1958"
      ]
     },
     "execution_count": 28,
     "metadata": {},
     "output_type": "execute_result"
    }
   ],
   "source": [
    "n_review = int(n_review.split('：')[1])\n",
    "n_review"
   ]
  },
  {
   "cell_type": "code",
   "execution_count": 29,
   "id": "changed-sunset",
   "metadata": {},
   "outputs": [],
   "source": [
    "url_ec = 'https://scraping.official.ec/'"
   ]
  },
  {
   "cell_type": "code",
   "execution_count": 30,
   "id": "former-equity",
   "metadata": {},
   "outputs": [],
   "source": [
    "res = requests.get(url_ec)"
   ]
  },
  {
   "cell_type": "code",
   "execution_count": 31,
   "id": "attractive-leave",
   "metadata": {},
   "outputs": [],
   "source": [
    "soup = BeautifulSoup(res.text, 'html.parser')"
   ]
  },
  {
   "cell_type": "code",
   "execution_count": 33,
   "id": "negative-vacuum",
   "metadata": {
    "collapsed": true,
    "jupyter": {
     "outputs_hidden": true
    }
   },
   "outputs": [
    {
     "data": {
      "text/plain": [
       "<ul class=\"items-grid_itemList_b58666da\" data-app-item-label=\"\" data-columns-pc=\"4\" data-columns-sp=\"2\" data-currency=\"JPY\" data-current=\"1\" data-endpoint=\"https://scraping.official.ec/load_items/\" data-exchange-rate=\"1\" data-frame=\"on\" data-items=\"4\" data-lang=\"ja\" data-last-page=\"1\" data-view-layout=\"rectangle\" id=\"itemList\"> <li class=\"items-grid_itemListLI_b58666da\"> <a class=\"items-grid_anchor_b58666da js-anchor\" href=\"https://scraping.official.ec/items/40792108\"> <div class=\"items-grid_container_b58666da\"> <div class=\"items-grid_imageContainer_b58666da\"> <div class=\"items-grid_imageOuter_b58666da\"> <div class=\"items-grid_imageInner_b58666da\"> <img class=\"items-grid_image_b58666da\" data-src1280=\"https://base-ec2if.akamaized.net/w=1280,a=0,q=90,u=1/images/item/origin/8397aca82a4a0a64729cdd8d327145da.png\" height=\"640\" loading=\"lazy\" src=\"https://base-ec2if.akamaized.net/w=640,a=0,q=90,u=1/images/item/origin/8397aca82a4a0a64729cdd8d327145da.png\" width=\"640\"/> </div> <div class=\"items-grid_infoContainer_b58666da\"> <div class=\"items-grid_infoHead_b58666da\"> <div class=\"items-grid_itemTitle_b58666da\"> <p class=\"items-grid_itemTitleText_b58666da\">プログラミング学習の相談</p> </div> <div class=\"items-grid_itemPrice_b58666da\"> <p class=\"items-grid_price_b58666da\">¥ 30,000</p> </div> <div class=\"items-grid_itemInfoLabels_b58666da\"> </div> </div> <div class=\"items-grid_itemDescription_b58666da\"> <p class=\"items-grid_itemDescriptionText_b58666da\">プログラミング学習に関する相談をお受けいたします。\n",
       "購入成立後、日程調整を行いZoom URLをお送りいたします。\n",
       "事前にお送りする質問にお答えいただいた上で、1時間の相談会を実施します。\n",
       "主に、何をどのように学んでいけばよいか迷っている方や、プログラミングに躓いて悩んでいる初学者におすすめです。</p> </div> </div> </div> </div> </div> </a> </li> <li class=\"items-grid_itemListLI_b58666da\"> <a class=\"items-grid_anchor_b58666da js-anchor\" href=\"https://scraping.official.ec/items/40792153\"> <div class=\"items-grid_container_b58666da\"> <div class=\"items-grid_imageContainer_b58666da\"> <div class=\"items-grid_imageOuter_b58666da\"> <div class=\"items-grid_imageInner_b58666da\"> <img class=\"items-grid_image_b58666da\" data-src1280=\"https://base-ec2if.akamaized.net/w=1280,a=0,q=90,u=1/images/item/origin/e493302a92e0de9625b588e0bb4bad6c.png\" height=\"640\" loading=\"lazy\" src=\"https://base-ec2if.akamaized.net/w=640,a=0,q=90,u=1/images/item/origin/e493302a92e0de9625b588e0bb4bad6c.png\" width=\"640\"/> </div> <div class=\"items-grid_infoContainer_b58666da\"> <div class=\"items-grid_infoHead_b58666da\"> <div class=\"items-grid_itemTitle_b58666da\"> <p class=\"items-grid_itemTitleText_b58666da\">顧問 &amp; アドバイザリー</p> </div> <div class=\"items-grid_itemPrice_b58666da\"> <p class=\"items-grid_price_b58666da\">¥ 100,000</p> </div> <div class=\"items-grid_itemInfoLabels_b58666da\"> </div> </div> <div class=\"items-grid_itemDescription_b58666da\"> <p class=\"items-grid_itemDescriptionText_b58666da\">下記カテゴリにおける企業のアドバイザリーを担当します。\n",
       "\n",
       "・IT/DX化\n",
       "・教育\n",
       "・営業戦略\n",
       "・人事領域（採用、育成）\n",
       "\n",
       "現在とあるブロックチェーンベンチャー企業にて、教育フェローとして教育事業の方針設計から、それにおける採用計画、運用面の設計までのアドバイス、構想立案を行っています。</p> </div> </div> </div> </div> </div> </a> </li> <li class=\"items-grid_itemListLI_b58666da\"> <a class=\"items-grid_anchor_b58666da js-anchor\" href=\"https://scraping.official.ec/items/40792284\"> <div class=\"items-grid_container_b58666da\"> <div class=\"items-grid_imageContainer_b58666da\"> <div class=\"items-grid_imageOuter_b58666da\"> <div class=\"items-grid_imageInner_b58666da\"> <img class=\"items-grid_image_b58666da\" data-src1280=\"https://base-ec2if.akamaized.net/w=1280,a=0,q=90,u=1/images/item/origin/33afc89ae72e60f1031c64d713911105.png\" height=\"640\" loading=\"lazy\" src=\"https://base-ec2if.akamaized.net/w=640,a=0,q=90,u=1/images/item/origin/33afc89ae72e60f1031c64d713911105.png\" width=\"640\"/> </div> <div class=\"items-grid_infoContainer_b58666da\"> <div class=\"items-grid_infoHead_b58666da\"> <div class=\"items-grid_itemTitle_b58666da\"> <p class=\"items-grid_itemTitleText_b58666da\">Udemy講座まとめ買いパック</p> </div> <div class=\"items-grid_itemPrice_b58666da\"> <p class=\"items-grid_price_b58666da\">¥ 8,000</p> </div> <div class=\"items-grid_itemInfoLabels_b58666da\"> </div> </div> <div class=\"items-grid_itemDescription_b58666da\"> <p class=\"items-grid_itemDescriptionText_b58666da\">私がUdemyで公開している下記講座4点セットを特別価格で販売いたします。\n",
       "\n",
       "・PythonによるWebスクレイピング〜入門編〜【業務効率化への第一歩】\n",
       "　※定価：15,600円\n",
       "・PythonによるWebスクレイピング 〜Webアプリケーション編〜\n",
       "　※定価：22,800円\n",
       "・ビジネスパーソンに贈る業務効率化大全 〜Google Apps Scriptによる業務の自動化〜\n",
       "　※定価：24,000円\n",
       "・プログラミングを業務で活かす！PythonによるWeb API活用講座\n",
       "　※定価：19,800円</p> </div> </div> </div> </div> </div> </a> </li> <li class=\"items-grid_itemListLI_b58666da\"> <a class=\"items-grid_anchor_b58666da js-anchor\" href=\"https://scraping.official.ec/items/40792454\"> <div class=\"items-grid_container_b58666da\"> <div class=\"items-grid_imageContainer_b58666da\"> <div class=\"items-grid_imageOuter_b58666da\"> <div class=\"items-grid_imageInner_b58666da\"> <img class=\"items-grid_image_b58666da\" data-src1280=\"https://base-ec2if.akamaized.net/w=1280,a=0,q=90,u=1/images/item/origin/ce284316ad624e6e791f8b3d3165f4bf.png\" height=\"640\" loading=\"lazy\" src=\"https://base-ec2if.akamaized.net/w=640,a=0,q=90,u=1/images/item/origin/ce284316ad624e6e791f8b3d3165f4bf.png\" width=\"640\"/> </div> <div class=\"items-grid_infoContainer_b58666da\"> <div class=\"items-grid_infoHead_b58666da\"> <div class=\"items-grid_itemTitle_b58666da\"> <p class=\"items-grid_itemTitleText_b58666da\">YouTubeコンサルティング</p> </div> <div class=\"items-grid_itemPrice_b58666da\"> <p class=\"items-grid_price_b58666da\">¥ 15,000</p> </div> <div class=\"items-grid_itemInfoLabels_b58666da\"> <p class=\"items-grid_infoItem_b58666da items-grid_status_b58666da items-grid_soldOut_b58666da\">SOLD OUT</p> </div> </div> <div class=\"items-grid_itemDescription_b58666da\"> <p class=\"items-grid_itemDescriptionText_b58666da\">YouTubeチャンネル運営に関してのコンサルティングを行います。\n",
       "中々伸びずの状況が続いていた私のチャンネルですが、直近は月次5000人以上のペースで増加するまでになりました。\n",
       "\n",
       "試行錯誤の末、溜まってきたノウハウがあります。\n",
       "そのノウハウを元に、大枠の部分から細かな部分までアドバイスを行います。教育系チャンネルは得意領域です。\n",
       "\n",
       "※チャンネル登録者数は2万6千人（2021年3月現在）\n",
       "</p> </div> </div> </div> </div> </div> </a> </li> </ul>"
      ]
     },
     "execution_count": 33,
     "metadata": {},
     "output_type": "execute_result"
    }
   ],
   "source": [
    "item_list = soup.find('ul', {'id': 'itemList'})\n",
    "item_list"
   ]
  },
  {
   "cell_type": "code",
   "execution_count": 35,
   "id": "returning-aviation",
   "metadata": {},
   "outputs": [
    {
     "data": {
      "text/plain": [
       "4"
      ]
     },
     "execution_count": 35,
     "metadata": {},
     "output_type": "execute_result"
    }
   ],
   "source": [
    "len(item_list.find_all('li'))"
   ]
  },
  {
   "cell_type": "code",
   "execution_count": 36,
   "id": "induced-familiar",
   "metadata": {},
   "outputs": [],
   "source": [
    "items = item_list.find_all('li')"
   ]
  },
  {
   "cell_type": "code",
   "execution_count": 37,
   "id": "acting-poland",
   "metadata": {
    "collapsed": true,
    "jupyter": {
     "outputs_hidden": true
    }
   },
   "outputs": [
    {
     "data": {
      "text/plain": [
       "<li class=\"items-grid_itemListLI_b58666da\"> <a class=\"items-grid_anchor_b58666da js-anchor\" href=\"https://scraping.official.ec/items/40792108\"> <div class=\"items-grid_container_b58666da\"> <div class=\"items-grid_imageContainer_b58666da\"> <div class=\"items-grid_imageOuter_b58666da\"> <div class=\"items-grid_imageInner_b58666da\"> <img class=\"items-grid_image_b58666da\" data-src1280=\"https://base-ec2if.akamaized.net/w=1280,a=0,q=90,u=1/images/item/origin/8397aca82a4a0a64729cdd8d327145da.png\" height=\"640\" loading=\"lazy\" src=\"https://base-ec2if.akamaized.net/w=640,a=0,q=90,u=1/images/item/origin/8397aca82a4a0a64729cdd8d327145da.png\" width=\"640\"/> </div> <div class=\"items-grid_infoContainer_b58666da\"> <div class=\"items-grid_infoHead_b58666da\"> <div class=\"items-grid_itemTitle_b58666da\"> <p class=\"items-grid_itemTitleText_b58666da\">プログラミング学習の相談</p> </div> <div class=\"items-grid_itemPrice_b58666da\"> <p class=\"items-grid_price_b58666da\">¥ 30,000</p> </div> <div class=\"items-grid_itemInfoLabels_b58666da\"> </div> </div> <div class=\"items-grid_itemDescription_b58666da\"> <p class=\"items-grid_itemDescriptionText_b58666da\">プログラミング学習に関する相談をお受けいたします。\n",
       "購入成立後、日程調整を行いZoom URLをお送りいたします。\n",
       "事前にお送りする質問にお答えいただいた上で、1時間の相談会を実施します。\n",
       "主に、何をどのように学んでいけばよいか迷っている方や、プログラミングに躓いて悩んでいる初学者におすすめです。</p> </div> </div> </div> </div> </div> </a> </li>"
      ]
     },
     "execution_count": 37,
     "metadata": {},
     "output_type": "execute_result"
    }
   ],
   "source": [
    "item = items[0]\n",
    "item"
   ]
  },
  {
   "cell_type": "code",
   "execution_count": 43,
   "id": "charged-tackle",
   "metadata": {},
   "outputs": [
    {
     "data": {
      "text/plain": [
       "'プログラミング学習の相談'"
      ]
     },
     "execution_count": 43,
     "metadata": {},
     "output_type": "execute_result"
    }
   ],
   "source": [
    "title = item.find('p', {'class': 'items-grid_itemTitleText_b58666da'}).text\n",
    "title"
   ]
  },
  {
   "cell_type": "code",
   "execution_count": 46,
   "id": "complex-cotton",
   "metadata": {},
   "outputs": [
    {
     "data": {
      "text/plain": [
       "'¥ 30,000'"
      ]
     },
     "execution_count": 46,
     "metadata": {},
     "output_type": "execute_result"
    }
   ],
   "source": [
    "price = item.find('p', {'class': 'items-grid_price_b58666da'}).text\n",
    "price"
   ]
  },
  {
   "cell_type": "code",
   "execution_count": 51,
   "id": "returning-founder",
   "metadata": {},
   "outputs": [],
   "source": [
    "price = int(price.replace('¥ ', '').replace(',', ''))"
   ]
  },
  {
   "cell_type": "code",
   "execution_count": 52,
   "id": "centered-subscription",
   "metadata": {},
   "outputs": [
    {
     "data": {
      "text/plain": [
       "30000"
      ]
     },
     "execution_count": 52,
     "metadata": {},
     "output_type": "execute_result"
    }
   ],
   "source": [
    "price"
   ]
  },
  {
   "cell_type": "code",
   "execution_count": 55,
   "id": "bulgarian-programmer",
   "metadata": {},
   "outputs": [
    {
     "data": {
      "text/plain": [
       "1"
      ]
     },
     "execution_count": 55,
     "metadata": {},
     "output_type": "execute_result"
    }
   ],
   "source": [
    "len(item.find_all('a'))"
   ]
  },
  {
   "cell_type": "code",
   "execution_count": 59,
   "id": "spoken-cutting",
   "metadata": {},
   "outputs": [
    {
     "data": {
      "text/plain": [
       "'https://scraping.official.ec/items/40792108'"
      ]
     },
     "execution_count": 59,
     "metadata": {},
     "output_type": "execute_result"
    }
   ],
   "source": [
    "link = item.find('a')['href']\n",
    "link"
   ]
  },
  {
   "cell_type": "code",
   "execution_count": 64,
   "id": "bulgarian-circular",
   "metadata": {},
   "outputs": [
    {
     "data": {
      "text/plain": [
       "False"
      ]
     },
     "execution_count": 64,
     "metadata": {},
     "output_type": "execute_result"
    }
   ],
   "source": [
    "# SOLD OUT\n",
    "items[3].find('p', {'class': 'items-grid_soldOut_b58666da'})  == None"
   ]
  },
  {
   "cell_type": "code",
   "execution_count": 65,
   "id": "recreational-hierarchy",
   "metadata": {},
   "outputs": [
    {
     "data": {
      "text/plain": [
       "True"
      ]
     },
     "execution_count": 65,
     "metadata": {},
     "output_type": "execute_result"
    }
   ],
   "source": [
    "# 在庫あり\n",
    "items[0].find('p', {'class': 'items-grid_soldOut_b58666da'})  == None"
   ]
  },
  {
   "cell_type": "code",
   "execution_count": 71,
   "id": "aerial-slope",
   "metadata": {},
   "outputs": [
    {
     "data": {
      "text/plain": [
       "True"
      ]
     },
     "execution_count": 71,
     "metadata": {},
     "output_type": "execute_result"
    }
   ],
   "source": [
    "is_stock = item.find('p', {'class': 'items-grid_soldOut_b58666da'})  == None\n",
    "is_stock"
   ]
  },
  {
   "cell_type": "code",
   "execution_count": 72,
   "id": "comfortable-credits",
   "metadata": {},
   "outputs": [
    {
     "data": {
      "text/plain": [
       "'在庫あり'"
      ]
     },
     "execution_count": 72,
     "metadata": {},
     "output_type": "execute_result"
    }
   ],
   "source": [
    "is_stock = '在庫あり' if is_stock == True else '在庫なし'\n",
    "is_stock"
   ]
  },
  {
   "cell_type": "code",
   "execution_count": 73,
   "id": "toxic-implement",
   "metadata": {},
   "outputs": [],
   "source": [
    "url_ec = 'https://scraping.official.ec/'\n",
    "res = requests.get(url_ec)\n",
    "soup = BeautifulSoup(res.text, 'html.parser')\n",
    "item_list = soup.find('ul', {'id': 'itemList'})\n",
    "items = item_list.find_all('li')\n",
    "\n",
    "data_ec = []\n",
    "for item in items:\n",
    "    datum_ec = {}\n",
    "    datum_ec['title'] = item.find('p', {'class': 'items-grid_itemTitleText_b58666da'}).text\n",
    "    price = item.find('p', {'class': 'items-grid_price_b58666da'}).text\n",
    "    datum_ec['price'] = int(price.replace('¥ ', '').replace(',', ''))\n",
    "    datum_ec['link'] = item.find('a')['href']\n",
    "    is_stock = item.find('p', {'class': 'items-grid_soldOut_b58666da'})  == None\n",
    "    datum_ec['is_stock'] = '在庫あり' if is_stock == True else '在庫なし'\n",
    "    data_ec.append(datum_ec)"
   ]
  },
  {
   "cell_type": "code",
   "execution_count": 74,
   "id": "provincial-standard",
   "metadata": {
    "collapsed": true,
    "jupyter": {
     "outputs_hidden": true
    }
   },
   "outputs": [
    {
     "data": {
      "text/plain": [
       "[{'title': 'プログラミング学習の相談',\n",
       "  'price': 30000,\n",
       "  'link': 'https://scraping.official.ec/items/40792108',\n",
       "  'is_stock': '在庫あり'},\n",
       " {'title': '顧問 & アドバイザリー',\n",
       "  'price': 100000,\n",
       "  'link': 'https://scraping.official.ec/items/40792153',\n",
       "  'is_stock': '在庫あり'},\n",
       " {'title': 'Udemy講座まとめ買いパック',\n",
       "  'price': 8000,\n",
       "  'link': 'https://scraping.official.ec/items/40792284',\n",
       "  'is_stock': '在庫あり'},\n",
       " {'title': 'YouTubeコンサルティング',\n",
       "  'price': 15000,\n",
       "  'link': 'https://scraping.official.ec/items/40792454',\n",
       "  'is_stock': '在庫なし'}]"
      ]
     },
     "execution_count": 74,
     "metadata": {},
     "output_type": "execute_result"
    }
   ],
   "source": [
    "data_ec"
   ]
  },
  {
   "cell_type": "markdown",
   "id": "quantitative-rebound",
   "metadata": {},
   "source": [
    "## Udemy"
   ]
  },
  {
   "cell_type": "code",
   "execution_count": 75,
   "id": "cutting-establishment",
   "metadata": {},
   "outputs": [],
   "source": [
    "def get_data_udemy():\n",
    "    url = 'https://scraping-for-beginner.herokuapp.com/udemy'\n",
    "    res = requests.get(url)\n",
    "    soup = BeautifulSoup(res.text, 'html.parser')\n",
    "\n",
    "    n_subscriber = soup.find('p', {'class': 'subscribers'}).text\n",
    "    n_subscriber = int(n_subscriber.split('：')[1])\n",
    "\n",
    "    n_review = soup.find('p', {'class': 'reviews'}).text\n",
    "    n_review = int(n_review.split('：')[1])\n",
    "    return {\n",
    "        'n_subscriber': n_subscriber,\n",
    "        'n_review': n_review\n",
    "    }"
   ]
  },
  {
   "cell_type": "code",
   "execution_count": 76,
   "id": "liberal-requirement",
   "metadata": {},
   "outputs": [
    {
     "data": {
      "text/plain": [
       "{'n_subscriber': 11352, 'n_review': 1958}"
      ]
     },
     "execution_count": 76,
     "metadata": {},
     "output_type": "execute_result"
    }
   ],
   "source": [
    "get_data_udemy()"
   ]
  },
  {
   "cell_type": "markdown",
   "id": "contrary-colombia",
   "metadata": {},
   "source": [
    "## EC"
   ]
  },
  {
   "cell_type": "code",
   "execution_count": 78,
   "id": "sharp-wallpaper",
   "metadata": {},
   "outputs": [],
   "source": [
    "import pandas as pd"
   ]
  },
  {
   "cell_type": "code",
   "execution_count": 79,
   "id": "promising-pension",
   "metadata": {},
   "outputs": [],
   "source": [
    "def get_data_ec():\n",
    "    url_ec = 'https://scraping.official.ec/'\n",
    "    res = requests.get(url_ec)\n",
    "    soup = BeautifulSoup(res.text, 'html.parser')\n",
    "    item_list = soup.find('ul', {'id': 'itemList'})\n",
    "    items = item_list.find_all('li')\n",
    "\n",
    "    data_ec = []\n",
    "    for item in items:\n",
    "        datum_ec = {}\n",
    "        datum_ec['title'] = item.find('p', {'class': 'items-grid_itemTitleText_b58666da'}).text\n",
    "        price = item.find('p', {'class': 'items-grid_price_b58666da'}).text\n",
    "        datum_ec['price'] = int(price.replace('¥ ', '').replace(',', ''))\n",
    "        datum_ec['link'] = item.find('a')['href']\n",
    "        is_stock = item.find('p', {'class': 'items-grid_soldOut_b58666da'})  == None\n",
    "        datum_ec['is_stock'] = '在庫あり' if is_stock == True else '在庫なし'\n",
    "        data_ec.append(datum_ec)\n",
    "        \n",
    "    df_ec = pd.DataFrame(data_ec)\n",
    "    return df_ec"
   ]
  },
  {
   "cell_type": "code",
   "execution_count": 80,
   "id": "lesser-theology",
   "metadata": {
    "collapsed": true,
    "jupyter": {
     "outputs_hidden": true
    }
   },
   "outputs": [
    {
     "data": {
      "text/html": [
       "<div>\n",
       "<style scoped>\n",
       "    .dataframe tbody tr th:only-of-type {\n",
       "        vertical-align: middle;\n",
       "    }\n",
       "\n",
       "    .dataframe tbody tr th {\n",
       "        vertical-align: top;\n",
       "    }\n",
       "\n",
       "    .dataframe thead th {\n",
       "        text-align: right;\n",
       "    }\n",
       "</style>\n",
       "<table border=\"1\" class=\"dataframe\">\n",
       "  <thead>\n",
       "    <tr style=\"text-align: right;\">\n",
       "      <th></th>\n",
       "      <th>title</th>\n",
       "      <th>price</th>\n",
       "      <th>link</th>\n",
       "      <th>is_stock</th>\n",
       "    </tr>\n",
       "  </thead>\n",
       "  <tbody>\n",
       "    <tr>\n",
       "      <th>0</th>\n",
       "      <td>プログラミング学習の相談</td>\n",
       "      <td>30000</td>\n",
       "      <td>https://scraping.official.ec/items/40792108</td>\n",
       "      <td>在庫あり</td>\n",
       "    </tr>\n",
       "    <tr>\n",
       "      <th>1</th>\n",
       "      <td>顧問 &amp; アドバイザリー</td>\n",
       "      <td>100000</td>\n",
       "      <td>https://scraping.official.ec/items/40792153</td>\n",
       "      <td>在庫あり</td>\n",
       "    </tr>\n",
       "    <tr>\n",
       "      <th>2</th>\n",
       "      <td>Udemy講座まとめ買いパック</td>\n",
       "      <td>8000</td>\n",
       "      <td>https://scraping.official.ec/items/40792284</td>\n",
       "      <td>在庫あり</td>\n",
       "    </tr>\n",
       "    <tr>\n",
       "      <th>3</th>\n",
       "      <td>YouTubeコンサルティング</td>\n",
       "      <td>15000</td>\n",
       "      <td>https://scraping.official.ec/items/40792454</td>\n",
       "      <td>在庫なし</td>\n",
       "    </tr>\n",
       "  </tbody>\n",
       "</table>\n",
       "</div>"
      ],
      "text/plain": [
       "             title   price                                         link  \\\n",
       "0     プログラミング学習の相談   30000  https://scraping.official.ec/items/40792108   \n",
       "1     顧問 & アドバイザリー  100000  https://scraping.official.ec/items/40792153   \n",
       "2  Udemy講座まとめ買いパック    8000  https://scraping.official.ec/items/40792284   \n",
       "3  YouTubeコンサルティング   15000  https://scraping.official.ec/items/40792454   \n",
       "\n",
       "  is_stock  \n",
       "0     在庫あり  \n",
       "1     在庫あり  \n",
       "2     在庫あり  \n",
       "3     在庫なし  "
      ]
     },
     "execution_count": 80,
     "metadata": {},
     "output_type": "execute_result"
    }
   ],
   "source": [
    "get_data_ec()"
   ]
  },
  {
   "cell_type": "code",
   "execution_count": 81,
   "id": "unlikely-delivery",
   "metadata": {
    "collapsed": true,
    "jupyter": {
     "outputs_hidden": true
    }
   },
   "outputs": [
    {
     "name": "stdout",
     "output_type": "stream",
     "text": [
      "Requirement already satisfied: gspread in /usr/local/lib/python3.9/site-packages (3.7.0)\n",
      "Requirement already satisfied: google-auth-oauthlib>=0.4.1 in /usr/local/lib/python3.9/site-packages (from gspread) (0.4.3)\n",
      "Requirement already satisfied: google-auth>=1.12.0 in /usr/local/lib/python3.9/site-packages (from gspread) (1.27.0)\n",
      "Requirement already satisfied: cachetools<5.0,>=2.0.0 in /usr/local/lib/python3.9/site-packages (from google-auth>=1.12.0->gspread) (4.2.1)\n",
      "Requirement already satisfied: setuptools>=40.3.0 in /usr/local/lib/python3.9/site-packages (from google-auth>=1.12.0->gspread) (54.1.2)\n",
      "Requirement already satisfied: six>=1.9.0 in /usr/local/lib/python3.9/site-packages (from google-auth>=1.12.0->gspread) (1.15.0)\n",
      "Requirement already satisfied: rsa<5,>=3.1.4 in /usr/local/lib/python3.9/site-packages (from google-auth>=1.12.0->gspread) (4.7.2)\n",
      "Requirement already satisfied: pyasn1-modules>=0.2.1 in /usr/local/lib/python3.9/site-packages (from google-auth>=1.12.0->gspread) (0.2.8)\n",
      "Requirement already satisfied: requests-oauthlib>=0.7.0 in /usr/local/lib/python3.9/site-packages (from google-auth-oauthlib>=0.4.1->gspread) (1.3.0)\n",
      "Requirement already satisfied: pyasn1<0.5.0,>=0.4.6 in /usr/local/lib/python3.9/site-packages (from pyasn1-modules>=0.2.1->google-auth>=1.12.0->gspread) (0.4.8)\n",
      "Requirement already satisfied: oauthlib>=3.0.0 in /usr/local/lib/python3.9/site-packages (from requests-oauthlib>=0.7.0->google-auth-oauthlib>=0.4.1->gspread) (3.1.0)\n",
      "Requirement already satisfied: requests>=2.0.0 in /usr/local/lib/python3.9/site-packages (from requests-oauthlib>=0.7.0->google-auth-oauthlib>=0.4.1->gspread) (2.25.1)\n",
      "Requirement already satisfied: urllib3<1.27,>=1.21.1 in /usr/local/lib/python3.9/site-packages (from requests>=2.0.0->requests-oauthlib>=0.7.0->google-auth-oauthlib>=0.4.1->gspread) (1.26.3)\n",
      "Requirement already satisfied: certifi>=2017.4.17 in /usr/local/lib/python3.9/site-packages (from requests>=2.0.0->requests-oauthlib>=0.7.0->google-auth-oauthlib>=0.4.1->gspread) (2020.12.5)\n",
      "Requirement already satisfied: chardet<5,>=3.0.2 in /usr/local/lib/python3.9/site-packages (from requests>=2.0.0->requests-oauthlib>=0.7.0->google-auth-oauthlib>=0.4.1->gspread) (4.0.0)\n",
      "Requirement already satisfied: idna<3,>=2.5 in /usr/local/lib/python3.9/site-packages (from requests>=2.0.0->requests-oauthlib>=0.7.0->google-auth-oauthlib>=0.4.1->gspread) (2.10)\n",
      "Collecting google\n",
      "  Downloading google-3.0.0-py2.py3-none-any.whl (45 kB)\n",
      "\u001b[K     |████████████████████████████████| 45 kB 5.8 MB/s eta 0:00:011\n",
      "\u001b[?25hRequirement already satisfied: beautifulsoup4 in /usr/local/lib/python3.9/site-packages (from google) (4.9.3)\n",
      "Requirement already satisfied: soupsieve>1.2 in /usr/local/lib/python3.9/site-packages (from beautifulsoup4->google) (2.2.1)\n",
      "Installing collected packages: google\n",
      "Successfully installed google-3.0.0\n"
     ]
    }
   ],
   "source": [
    "!pip3 install gspread\n",
    "!pip3 install google"
   ]
  },
  {
   "cell_type": "code",
   "execution_count": 83,
   "id": "stuck-option",
   "metadata": {},
   "outputs": [],
   "source": [
    "import gspread\n",
    "from google.oauth2.service_account import Credentials\n",
    "\n",
    "scopes = [\n",
    "    'https://www.googleapis.com/auth/spreadsheets',\n",
    "    'https://www.googleapis.com/auth/drive'\n",
    "]\n",
    "\n",
    "credentials = Credentials.from_service_account_file(\n",
    "    'service_account.json',\n",
    "    scopes=scopes\n",
    ")\n",
    "\n",
    "gc = gspread.authorize(credentials)"
   ]
  },
  {
   "cell_type": "code",
   "execution_count": 84,
   "id": "brilliant-second",
   "metadata": {},
   "outputs": [
    {
     "data": {
      "text/plain": [
       "<gspread.client.Client at 0x113f83430>"
      ]
     },
     "execution_count": 84,
     "metadata": {},
     "output_type": "execute_result"
    }
   ],
   "source": [
    "gc"
   ]
  },
  {
   "cell_type": "code",
   "execution_count": 85,
   "id": "twelve-liver",
   "metadata": {},
   "outputs": [],
   "source": [
    "SP_SHEET_KEY = '1MlEQ5RfMJanndDRZVdpxRR7QMxThs0nbbvcFUGhovpk'\n",
    "sh = gc.open_by_key(SP_SHEET_KEY)"
   ]
  },
  {
   "cell_type": "code",
   "execution_count": 86,
   "id": "awful-health",
   "metadata": {},
   "outputs": [
    {
     "data": {
      "text/plain": [
       "<Spreadsheet 'スクレイピング用DB' id:1MlEQ5RfMJanndDRZVdpxRR7QMxThs0nbbvcFUGhovpk>"
      ]
     },
     "execution_count": 86,
     "metadata": {},
     "output_type": "execute_result"
    }
   ],
   "source": [
    "sh"
   ]
  },
  {
   "cell_type": "code",
   "execution_count": 87,
   "id": "comparative-enough",
   "metadata": {},
   "outputs": [],
   "source": [
    "SP_SHEET = 'db'\n",
    "worksheet = sh.worksheet(SP_SHEET)"
   ]
  },
  {
   "cell_type": "code",
   "execution_count": 90,
   "id": "controversial-malpractice",
   "metadata": {},
   "outputs": [
    {
     "data": {
      "text/plain": [
       "[['date', 'n_subscriber', 'n_review'],\n",
       " ['2021/03/09', '11032', '1882'],\n",
       " ['2021/03/10', '11049', '1885']]"
      ]
     },
     "execution_count": 90,
     "metadata": {},
     "output_type": "execute_result"
    }
   ],
   "source": [
    "data = worksheet.get_all_values()\n",
    "data[:3]"
   ]
  },
  {
   "cell_type": "code",
   "execution_count": 92,
   "id": "renewable-terminal",
   "metadata": {},
   "outputs": [
    {
     "data": {
      "text/html": [
       "<div>\n",
       "<style scoped>\n",
       "    .dataframe tbody tr th:only-of-type {\n",
       "        vertical-align: middle;\n",
       "    }\n",
       "\n",
       "    .dataframe tbody tr th {\n",
       "        vertical-align: top;\n",
       "    }\n",
       "\n",
       "    .dataframe thead th {\n",
       "        text-align: right;\n",
       "    }\n",
       "</style>\n",
       "<table border=\"1\" class=\"dataframe\">\n",
       "  <thead>\n",
       "    <tr style=\"text-align: right;\">\n",
       "      <th></th>\n",
       "      <th>date</th>\n",
       "      <th>n_subscriber</th>\n",
       "      <th>n_review</th>\n",
       "    </tr>\n",
       "  </thead>\n",
       "  <tbody>\n",
       "    <tr>\n",
       "      <th>0</th>\n",
       "      <td>2021/03/09</td>\n",
       "      <td>11032</td>\n",
       "      <td>1882</td>\n",
       "    </tr>\n",
       "    <tr>\n",
       "      <th>1</th>\n",
       "      <td>2021/03/10</td>\n",
       "      <td>11049</td>\n",
       "      <td>1885</td>\n",
       "    </tr>\n",
       "    <tr>\n",
       "      <th>2</th>\n",
       "      <td>2021/03/11</td>\n",
       "      <td>11068</td>\n",
       "      <td>1889</td>\n",
       "    </tr>\n",
       "  </tbody>\n",
       "</table>\n",
       "</div>"
      ],
      "text/plain": [
       "         date n_subscriber n_review\n",
       "0  2021/03/09        11032     1882\n",
       "1  2021/03/10        11049     1885\n",
       "2  2021/03/11        11068     1889"
      ]
     },
     "execution_count": 92,
     "metadata": {},
     "output_type": "execute_result"
    }
   ],
   "source": [
    "df = pd.DataFrame(data[1:], columns=data[0])\n",
    "df[:3]"
   ]
  },
  {
   "cell_type": "code",
   "execution_count": 104,
   "id": "ignored-recovery",
   "metadata": {},
   "outputs": [
    {
     "data": {
      "text/plain": [
       "{'n_subscriber': 11352, 'n_review': 1958}"
      ]
     },
     "execution_count": 104,
     "metadata": {},
     "output_type": "execute_result"
    }
   ],
   "source": [
    "data_udemy = get_data_udemy()\n",
    "data_udemy"
   ]
  },
  {
   "cell_type": "code",
   "execution_count": 105,
   "id": "bigger-interval",
   "metadata": {},
   "outputs": [],
   "source": [
    "import datetime"
   ]
  },
  {
   "cell_type": "code",
   "execution_count": 106,
   "id": "collect-antenna",
   "metadata": {},
   "outputs": [
    {
     "data": {
      "text/plain": [
       "'2021/04/09'"
      ]
     },
     "execution_count": 106,
     "metadata": {},
     "output_type": "execute_result"
    }
   ],
   "source": [
    "today = datetime.date.today().strftime('%Y/%m/%d')\n",
    "today"
   ]
  },
  {
   "cell_type": "code",
   "execution_count": 107,
   "id": "sonic-publisher",
   "metadata": {},
   "outputs": [],
   "source": [
    "data_udemy['date'] = today"
   ]
  },
  {
   "cell_type": "code",
   "execution_count": 108,
   "id": "beneficial-dining",
   "metadata": {},
   "outputs": [
    {
     "data": {
      "text/plain": [
       "{'n_subscriber': 11352, 'n_review': 1958, 'date': '2021/04/09'}"
      ]
     },
     "execution_count": 108,
     "metadata": {},
     "output_type": "execute_result"
    }
   ],
   "source": [
    "data_udemy"
   ]
  },
  {
   "cell_type": "code",
   "execution_count": 110,
   "id": "resistant-technician",
   "metadata": {},
   "outputs": [
    {
     "data": {
      "text/html": [
       "<div>\n",
       "<style scoped>\n",
       "    .dataframe tbody tr th:only-of-type {\n",
       "        vertical-align: middle;\n",
       "    }\n",
       "\n",
       "    .dataframe tbody tr th {\n",
       "        vertical-align: top;\n",
       "    }\n",
       "\n",
       "    .dataframe thead th {\n",
       "        text-align: right;\n",
       "    }\n",
       "</style>\n",
       "<table border=\"1\" class=\"dataframe\">\n",
       "  <thead>\n",
       "    <tr style=\"text-align: right;\">\n",
       "      <th></th>\n",
       "      <th>date</th>\n",
       "      <th>n_subscriber</th>\n",
       "      <th>n_review</th>\n",
       "    </tr>\n",
       "  </thead>\n",
       "  <tbody>\n",
       "    <tr>\n",
       "      <th>27</th>\n",
       "      <td>2021/04/05</td>\n",
       "      <td>11295</td>\n",
       "      <td>1948</td>\n",
       "    </tr>\n",
       "    <tr>\n",
       "      <th>28</th>\n",
       "      <td>2021/04/06</td>\n",
       "      <td>11296</td>\n",
       "      <td>1950</td>\n",
       "    </tr>\n",
       "    <tr>\n",
       "      <th>29</th>\n",
       "      <td>2021/04/07</td>\n",
       "      <td>11306</td>\n",
       "      <td>1955</td>\n",
       "    </tr>\n",
       "    <tr>\n",
       "      <th>30</th>\n",
       "      <td>2021/04/08</td>\n",
       "      <td>11343</td>\n",
       "      <td>1958</td>\n",
       "    </tr>\n",
       "    <tr>\n",
       "      <th>31</th>\n",
       "      <td>2021/04/09</td>\n",
       "      <td>11352</td>\n",
       "      <td>1958</td>\n",
       "    </tr>\n",
       "  </tbody>\n",
       "</table>\n",
       "</div>"
      ],
      "text/plain": [
       "          date n_subscriber n_review\n",
       "27  2021/04/05        11295     1948\n",
       "28  2021/04/06        11296     1950\n",
       "29  2021/04/07        11306     1955\n",
       "30  2021/04/08        11343     1958\n",
       "31  2021/04/09        11352     1958"
      ]
     },
     "execution_count": 110,
     "metadata": {},
     "output_type": "execute_result"
    }
   ],
   "source": [
    "df = df.append(data_udemy, ignore_index=True)\n",
    "df.tail()"
   ]
  },
  {
   "cell_type": "code",
   "execution_count": 111,
   "id": "nearby-sellers",
   "metadata": {
    "collapsed": true,
    "jupyter": {
     "outputs_hidden": true
    }
   },
   "outputs": [
    {
     "name": "stdout",
     "output_type": "stream",
     "text": [
      "Requirement already satisfied: gspread-dataframe in /usr/local/lib/python3.9/site-packages (3.2.1)\n",
      "Requirement already satisfied: gspread>=3.0.0 in /usr/local/lib/python3.9/site-packages (from gspread-dataframe) (3.7.0)\n",
      "Requirement already satisfied: pandas>=0.24.0 in /usr/local/lib/python3.9/site-packages (from gspread-dataframe) (1.2.1)\n",
      "Requirement already satisfied: six>=1.12.0 in /usr/local/lib/python3.9/site-packages (from gspread-dataframe) (1.15.0)\n",
      "Requirement already satisfied: google-auth-oauthlib>=0.4.1 in /usr/local/lib/python3.9/site-packages (from gspread>=3.0.0->gspread-dataframe) (0.4.3)\n",
      "Requirement already satisfied: google-auth>=1.12.0 in /usr/local/lib/python3.9/site-packages (from gspread>=3.0.0->gspread-dataframe) (1.27.0)\n",
      "Requirement already satisfied: rsa<5,>=3.1.4 in /usr/local/lib/python3.9/site-packages (from google-auth>=1.12.0->gspread>=3.0.0->gspread-dataframe) (4.7.2)\n",
      "Requirement already satisfied: pyasn1-modules>=0.2.1 in /usr/local/lib/python3.9/site-packages (from google-auth>=1.12.0->gspread>=3.0.0->gspread-dataframe) (0.2.8)\n",
      "Requirement already satisfied: cachetools<5.0,>=2.0.0 in /usr/local/lib/python3.9/site-packages (from google-auth>=1.12.0->gspread>=3.0.0->gspread-dataframe) (4.2.1)\n",
      "Requirement already satisfied: setuptools>=40.3.0 in /usr/local/lib/python3.9/site-packages (from google-auth>=1.12.0->gspread>=3.0.0->gspread-dataframe) (54.1.2)\n",
      "Requirement already satisfied: requests-oauthlib>=0.7.0 in /usr/local/lib/python3.9/site-packages (from google-auth-oauthlib>=0.4.1->gspread>=3.0.0->gspread-dataframe) (1.3.0)\n",
      "Requirement already satisfied: python-dateutil>=2.7.3 in /usr/local/lib/python3.9/site-packages (from pandas>=0.24.0->gspread-dataframe) (2.8.1)\n",
      "Requirement already satisfied: pytz>=2017.3 in /usr/local/lib/python3.9/site-packages (from pandas>=0.24.0->gspread-dataframe) (2021.1)\n",
      "Requirement already satisfied: numpy>=1.16.5 in /usr/local/lib/python3.9/site-packages (from pandas>=0.24.0->gspread-dataframe) (1.20.0)\n",
      "Requirement already satisfied: pyasn1<0.5.0,>=0.4.6 in /usr/local/lib/python3.9/site-packages (from pyasn1-modules>=0.2.1->google-auth>=1.12.0->gspread>=3.0.0->gspread-dataframe) (0.4.8)\n",
      "Requirement already satisfied: requests>=2.0.0 in /usr/local/lib/python3.9/site-packages (from requests-oauthlib>=0.7.0->google-auth-oauthlib>=0.4.1->gspread>=3.0.0->gspread-dataframe) (2.25.1)\n",
      "Requirement already satisfied: oauthlib>=3.0.0 in /usr/local/lib/python3.9/site-packages (from requests-oauthlib>=0.7.0->google-auth-oauthlib>=0.4.1->gspread>=3.0.0->gspread-dataframe) (3.1.0)\n",
      "Requirement already satisfied: chardet<5,>=3.0.2 in /usr/local/lib/python3.9/site-packages (from requests>=2.0.0->requests-oauthlib>=0.7.0->google-auth-oauthlib>=0.4.1->gspread>=3.0.0->gspread-dataframe) (4.0.0)\n",
      "Requirement already satisfied: certifi>=2017.4.17 in /usr/local/lib/python3.9/site-packages (from requests>=2.0.0->requests-oauthlib>=0.7.0->google-auth-oauthlib>=0.4.1->gspread>=3.0.0->gspread-dataframe) (2020.12.5)\n",
      "Requirement already satisfied: idna<3,>=2.5 in /usr/local/lib/python3.9/site-packages (from requests>=2.0.0->requests-oauthlib>=0.7.0->google-auth-oauthlib>=0.4.1->gspread>=3.0.0->gspread-dataframe) (2.10)\n",
      "Requirement already satisfied: urllib3<1.27,>=1.21.1 in /usr/local/lib/python3.9/site-packages (from requests>=2.0.0->requests-oauthlib>=0.7.0->google-auth-oauthlib>=0.4.1->gspread>=3.0.0->gspread-dataframe) (1.26.3)\n"
     ]
    }
   ],
   "source": [
    "!pip3 install gspread-dataframe"
   ]
  },
  {
   "cell_type": "code",
   "execution_count": 112,
   "id": "meaningful-brand",
   "metadata": {},
   "outputs": [],
   "source": [
    "from gspread_dataframe import set_with_dataframe"
   ]
  },
  {
   "cell_type": "code",
   "execution_count": 113,
   "id": "imposed-ebony",
   "metadata": {},
   "outputs": [],
   "source": [
    "set_with_dataframe(worksheet, df, row=1, col=1)"
   ]
  },
  {
   "cell_type": "code",
   "execution_count": 176,
   "id": "satellite-maker",
   "metadata": {},
   "outputs": [
    {
     "data": {
      "text/html": [
       "<div>\n",
       "<style scoped>\n",
       "    .dataframe tbody tr th:only-of-type {\n",
       "        vertical-align: middle;\n",
       "    }\n",
       "\n",
       "    .dataframe tbody tr th {\n",
       "        vertical-align: top;\n",
       "    }\n",
       "\n",
       "    .dataframe thead th {\n",
       "        text-align: right;\n",
       "    }\n",
       "</style>\n",
       "<table border=\"1\" class=\"dataframe\">\n",
       "  <thead>\n",
       "    <tr style=\"text-align: right;\">\n",
       "      <th></th>\n",
       "      <th>date</th>\n",
       "      <th>n_subscriber</th>\n",
       "      <th>n_review</th>\n",
       "    </tr>\n",
       "  </thead>\n",
       "  <tbody>\n",
       "    <tr>\n",
       "      <th>0</th>\n",
       "      <td>2021/03/09</td>\n",
       "      <td>11032</td>\n",
       "      <td>1882</td>\n",
       "    </tr>\n",
       "    <tr>\n",
       "      <th>1</th>\n",
       "      <td>2021/03/10</td>\n",
       "      <td>11049</td>\n",
       "      <td>1885</td>\n",
       "    </tr>\n",
       "    <tr>\n",
       "      <th>2</th>\n",
       "      <td>2021/03/11</td>\n",
       "      <td>11068</td>\n",
       "      <td>1889</td>\n",
       "    </tr>\n",
       "  </tbody>\n",
       "</table>\n",
       "</div>"
      ],
      "text/plain": [
       "         date n_subscriber n_review\n",
       "0  2021/03/09        11032     1882\n",
       "1  2021/03/10        11049     1885\n",
       "2  2021/03/11        11068     1889"
      ]
     },
     "execution_count": 176,
     "metadata": {},
     "output_type": "execute_result"
    }
   ],
   "source": [
    "data = worksheet.get_all_values()\n",
    "df_udemy = pd.DataFrame(data[1:], columns=data[0])\n",
    "df_udemy[:3]"
   ]
  },
  {
   "cell_type": "code",
   "execution_count": 177,
   "id": "greatest-antigua",
   "metadata": {},
   "outputs": [],
   "source": [
    "import altair as alt"
   ]
  },
  {
   "cell_type": "code",
   "execution_count": 186,
   "id": "documentary-proceeding",
   "metadata": {},
   "outputs": [],
   "source": [
    "df_udemy = df_udemy.astype({\n",
    "    'n_subscriber': int,\n",
    "    'n_review': int    \n",
    "})"
   ]
  },
  {
   "cell_type": "code",
   "execution_count": 191,
   "id": "stupid-princess",
   "metadata": {},
   "outputs": [],
   "source": [
    "ymin1 = df_udemy['n_subscriber'].min() - 10\n",
    "ymax1 = df_udemy['n_subscriber'].max() + 10\n",
    "\n",
    "ymin2 = df_udemy['n_review'].min() - 10\n",
    "ymax2 = df_udemy['n_review'].max() + 10"
   ]
  },
  {
   "cell_type": "code",
   "execution_count": 192,
   "id": "advisory-phrase",
   "metadata": {},
   "outputs": [],
   "source": [
    "base = alt.Chart(df_udemy).encode(\n",
    "    alt.X('date:T', axis=alt.Axis(title=None))\n",
    ")\n",
    "\n",
    "line1 = base.mark_line(opacity=0.3, color='#57A44C').encode(\n",
    "    alt.Y('n_subscriber',\n",
    "          axis=alt.Axis(title='受講生数', titleColor='#57A44C'),\n",
    "          scale=alt.Scale(domain=[ymin1, ymax1])\n",
    "         )\n",
    ")\n",
    "\n",
    "line2 = base.mark_line(stroke='#5276A7', interpolate='monotone').encode(\n",
    "    alt.Y('n_review',\n",
    "          axis=alt.Axis(title='レビュー数', titleColor='#5276A7'),\n",
    "          scale=alt.Scale(domain=[ymin2, ymax2])\n",
    "         )\n",
    ")\n",
    "\n",
    "chart = alt.layer(line1, line2).resolve_scale(\n",
    "    y = 'independent'\n",
    ")"
   ]
  },
  {
   "cell_type": "code",
   "execution_count": 193,
   "id": "competitive-process",
   "metadata": {},
   "outputs": [
    {
     "data": {
      "text/html": [
       "\n",
       "<div id=\"altair-viz-1446341d97aa48e48cb030a130b48077\"></div>\n",
       "<script type=\"text/javascript\">\n",
       "  (function(spec, embedOpt){\n",
       "    let outputDiv = document.currentScript.previousElementSibling;\n",
       "    if (outputDiv.id !== \"altair-viz-1446341d97aa48e48cb030a130b48077\") {\n",
       "      outputDiv = document.getElementById(\"altair-viz-1446341d97aa48e48cb030a130b48077\");\n",
       "    }\n",
       "    const paths = {\n",
       "      \"vega\": \"https://cdn.jsdelivr.net/npm//vega@5?noext\",\n",
       "      \"vega-lib\": \"https://cdn.jsdelivr.net/npm//vega-lib?noext\",\n",
       "      \"vega-lite\": \"https://cdn.jsdelivr.net/npm//vega-lite@4.8.1?noext\",\n",
       "      \"vega-embed\": \"https://cdn.jsdelivr.net/npm//vega-embed@6?noext\",\n",
       "    };\n",
       "\n",
       "    function loadScript(lib) {\n",
       "      return new Promise(function(resolve, reject) {\n",
       "        var s = document.createElement('script');\n",
       "        s.src = paths[lib];\n",
       "        s.async = true;\n",
       "        s.onload = () => resolve(paths[lib]);\n",
       "        s.onerror = () => reject(`Error loading script: ${paths[lib]}`);\n",
       "        document.getElementsByTagName(\"head\")[0].appendChild(s);\n",
       "      });\n",
       "    }\n",
       "\n",
       "    function showError(err) {\n",
       "      outputDiv.innerHTML = `<div class=\"error\" style=\"color:red;\">${err}</div>`;\n",
       "      throw err;\n",
       "    }\n",
       "\n",
       "    function displayChart(vegaEmbed) {\n",
       "      vegaEmbed(outputDiv, spec, embedOpt)\n",
       "        .catch(err => showError(`Javascript Error: ${err.message}<br>This usually means there's a typo in your chart specification. See the javascript console for the full traceback.`));\n",
       "    }\n",
       "\n",
       "    if(typeof define === \"function\" && define.amd) {\n",
       "      requirejs.config({paths});\n",
       "      require([\"vega-embed\"], displayChart, err => showError(`Error loading script: ${err.message}`));\n",
       "    } else if (typeof vegaEmbed === \"function\") {\n",
       "      displayChart(vegaEmbed);\n",
       "    } else {\n",
       "      loadScript(\"vega\")\n",
       "        .then(() => loadScript(\"vega-lite\"))\n",
       "        .then(() => loadScript(\"vega-embed\"))\n",
       "        .catch(showError)\n",
       "        .then(() => displayChart(vegaEmbed));\n",
       "    }\n",
       "  })({\"config\": {\"view\": {\"continuousWidth\": 400, \"continuousHeight\": 300}}, \"layer\": [{\"mark\": {\"type\": \"line\", \"color\": \"#57A44C\", \"opacity\": 0.3}, \"encoding\": {\"x\": {\"type\": \"temporal\", \"axis\": {\"title\": null}, \"field\": \"date\"}, \"y\": {\"type\": \"quantitative\", \"axis\": {\"title\": \"\\u53d7\\u8b1b\\u751f\\u6570\", \"titleColor\": \"#57A44C\"}, \"field\": \"n_subscriber\", \"scale\": {\"domain\": [11022.0, 11362.0]}}}}, {\"mark\": {\"type\": \"line\", \"interpolate\": \"monotone\", \"stroke\": \"#5276A7\"}, \"encoding\": {\"x\": {\"type\": \"temporal\", \"axis\": {\"title\": null}, \"field\": \"date\"}, \"y\": {\"type\": \"quantitative\", \"axis\": {\"title\": \"\\u30ec\\u30d3\\u30e5\\u30fc\\u6570\", \"titleColor\": \"#5276A7\"}, \"field\": \"n_review\", \"scale\": {\"domain\": [1872.0, 1968.0]}}}}], \"data\": {\"name\": \"data-b704afa6cbd9261c17c149156c420305\"}, \"resolve\": {\"scale\": {\"y\": \"independent\"}}, \"$schema\": \"https://vega.github.io/schema/vega-lite/v4.8.1.json\", \"datasets\": {\"data-b704afa6cbd9261c17c149156c420305\": [{\"date\": \"2021/03/09\", \"n_subscriber\": 11032, \"n_review\": 1882}, {\"date\": \"2021/03/10\", \"n_subscriber\": 11049, \"n_review\": 1885}, {\"date\": \"2021/03/11\", \"n_subscriber\": 11068, \"n_review\": 1889}, {\"date\": \"2021/03/12\", \"n_subscriber\": 11070, \"n_review\": 1891}, {\"date\": \"2021/03/13\", \"n_subscriber\": 11074, \"n_review\": 1894}, {\"date\": \"2021/03/14\", \"n_subscriber\": 11075, \"n_review\": 1898}, {\"date\": \"2021/03/15\", \"n_subscriber\": 11093, \"n_review\": 1903}, {\"date\": \"2021/03/16\", \"n_subscriber\": 11095, \"n_review\": 1904}, {\"date\": \"2021/03/17\", \"n_subscriber\": 11114, \"n_review\": 1909}, {\"date\": \"2021/03/18\", \"n_subscriber\": 11123, \"n_review\": 1911}, {\"date\": \"2021/03/19\", \"n_subscriber\": 11143, \"n_review\": 1916}, {\"date\": \"2021/03/20\", \"n_subscriber\": 11158, \"n_review\": 1921}, {\"date\": \"2021/03/21\", \"n_subscriber\": 11158, \"n_review\": 1922}, {\"date\": \"2021/03/22\", \"n_subscriber\": 11164, \"n_review\": 1925}, {\"date\": \"2021/03/23\", \"n_subscriber\": 11176, \"n_review\": 1928}, {\"date\": \"2021/03/24\", \"n_subscriber\": 11182, \"n_review\": 1928}, {\"date\": \"2021/03/25\", \"n_subscriber\": 11197, \"n_review\": 1930}, {\"date\": \"2021/03/26\", \"n_subscriber\": 11202, \"n_review\": 1930}, {\"date\": \"2021/03/27\", \"n_subscriber\": 11213, \"n_review\": 1934}, {\"date\": \"2021/03/28\", \"n_subscriber\": 11216, \"n_review\": 1935}, {\"date\": \"2021/03/29\", \"n_subscriber\": 11227, \"n_review\": 1936}, {\"date\": \"2021/03/30\", \"n_subscriber\": 11246, \"n_review\": 1939}, {\"date\": \"2021/03/31\", \"n_subscriber\": 11260, \"n_review\": 1939}, {\"date\": \"2021/04/01\", \"n_subscriber\": 11260, \"n_review\": 1939}, {\"date\": \"2021/04/02\", \"n_subscriber\": 11261, \"n_review\": 1942}, {\"date\": \"2021/04/03\", \"n_subscriber\": 11274, \"n_review\": 1944}, {\"date\": \"2021/04/04\", \"n_subscriber\": 11287, \"n_review\": 1946}, {\"date\": \"2021/04/05\", \"n_subscriber\": 11295, \"n_review\": 1948}, {\"date\": \"2021/04/06\", \"n_subscriber\": 11296, \"n_review\": 1950}, {\"date\": \"2021/04/07\", \"n_subscriber\": 11306, \"n_review\": 1955}, {\"date\": \"2021/04/08\", \"n_subscriber\": 11343, \"n_review\": 1958}, {\"date\": \"2021/04/09\", \"n_subscriber\": 11352, \"n_review\": 1958}]}}, {\"mode\": \"vega-lite\"});\n",
       "</script>"
      ],
      "text/plain": [
       "alt.LayerChart(...)"
      ]
     },
     "execution_count": 193,
     "metadata": {},
     "output_type": "execute_result"
    }
   ],
   "source": [
    "chart"
   ]
  }
 ],
 "metadata": {
  "kernelspec": {
   "display_name": "Python 3",
   "language": "python",
   "name": "python3"
  },
  "language_info": {
   "codemirror_mode": {
    "name": "ipython",
    "version": 3
   },
   "file_extension": ".py",
   "mimetype": "text/x-python",
   "name": "python",
   "nbconvert_exporter": "python",
   "pygments_lexer": "ipython3",
   "version": "3.9.2"
  }
 },
 "nbformat": 4,
 "nbformat_minor": 5
}
