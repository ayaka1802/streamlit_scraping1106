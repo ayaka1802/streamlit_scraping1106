{
 "cells": [
  {
   "cell_type": "code",
   "execution_count": 2,
   "id": "raised-concrete",
   "metadata": {
    "collapsed": true,
    "jupyter": {
     "outputs_hidden": true
    }
   },
   "outputs": [
    {
     "name": "stdout",
     "output_type": "stream",
     "text": [
      "Requirement already satisfied: beautifulsoup4 in /Users/ayaka_py/miniconda3/envs/python1024/lib/python3.11/site-packages (4.12.2)\n",
      "Requirement already satisfied: soupsieve>1.2 in /Users/ayaka_py/miniconda3/envs/python1024/lib/python3.11/site-packages (from beautifulsoup4) (2.5)\n"
     ]
    }
   ],
   "source": [
    "!pip3 install beautifulsoup4"
   ]
  },
  {
   "cell_type": "code",
   "execution_count": 3,
   "id": "offensive-credits",
   "metadata": {},
   "outputs": [],
   "source": [
    "from bs4 import BeautifulSoup\n",
    "import requests"
   ]
  },
  {
   "cell_type": "code",
   "execution_count": 4,
   "id": "broken-specific",
   "metadata": {},
   "outputs": [],
   "source": [
    "url = 'https://scraping-for-beginner.herokuapp.com/udemy'"
   ]
  },
  {
   "cell_type": "code",
   "execution_count": 5,
   "id": "abandoned-sauce",
   "metadata": {},
   "outputs": [],
   "source": [
    "res = requests.get(url)"
   ]
  },
  {
   "cell_type": "code",
   "execution_count": 6,
   "id": "radio-valentine",
   "metadata": {},
   "outputs": [],
   "source": [
    "soup = BeautifulSoup(res.text, 'html.parser')"
   ]
  },
  {
   "cell_type": "code",
   "execution_count": 7,
   "id": "parallel-punch",
   "metadata": {
    "collapsed": true,
    "jupyter": {
     "outputs_hidden": true
    }
   },
   "outputs": [
    {
     "data": {
      "text/plain": [
       "<!DOCTYPE html>\n",
       "\n",
       "<html dir=\"ltr\" lang=\"en\">\n",
       "<head>\n",
       "<meta charset=\"utf-8\"/>\n",
       "<title>Webスクレイピング入門者のためのサイト</title>\n",
       "<!-- Compiled and minified CSS -->\n",
       "<link href=\"https://cdnjs.cloudflare.com/ajax/libs/materialize/1.0.0-rc.2/css/materialize.min.css\" rel=\"stylesheet\"/>\n",
       "<link href=\"https://fonts.googleapis.com/icon?family=Material+Icons\" rel=\"stylesheet\"/> \b\n",
       "  <link href=\"static/assets/css/style.css\" rel=\"stylesheet\"/>\n",
       "<link href=\"static/assets/css/udemy.css\" rel=\"stylesheet\"/>\n",
       "<!-- <link rel=\"stylesheet\" href=\"static/assets/css/mypage.css\"> -->\n",
       "</head>\n",
       "<body>\n",
       "<!-- Navbar -->\n",
       "<div class=\"navbar-fixed\">\n",
       "<!-- Dropdown Structure -->\n",
       "<nav class=\"\">\n",
       "<div class=\"nav-wrapper row\">\n",
       "<div class=\"col s5 l4 offset-s1 offset-l1\">\n",
       "<a class=\"brand-logo\" href=\"\b/\">Webスクレイピング入門</a>\n",
       "</div>\n",
       "<div class=\"col s5 l6\">\n",
       "<ul class=\"right hide-on-med-and-down\" id=\"nav-mobile\">\n",
       "<li><a class=\"\" href=\"\b/login_page\">ログイン</a></li>\n",
       "<li><a class=\"\" href=\"/ranking/\">ランキング</a></li>\n",
       "<li><a class=\"\" href=\"/image\">画像</a></li>\n",
       "<li><a class=\"\" href=\"/udemy\">Udemy</a></li>\n",
       "<li><a class=\"\" href=\"https://scraping-for-beginner.readthedocs.io/\" target=\"”_blank”\">サンプルコード</a></li>\n",
       "</ul>\n",
       "</div>\n",
       "</div>\n",
       "</nav>\n",
       "</div>\n",
       "<div class=\"row\">\n",
       "<div class=\"col s4 offset-s4\">\n",
       "<div class=\"overview\">\n",
       "<p>\n",
       "      こちらのページは、<b>PythonによるWebスクレイピング〜Webアプリケーション編〜</b>で使用します。\n",
       "      </p>\n",
       "</div>\n",
       "<div class=\"\">\n",
       "<div class=\"\">\n",
       "<div class=\"card\">\n",
       "<div class=\"card-image\">\n",
       "<img src=\"/static/assets/img/imanyu.png\"/>\n",
       "<span class=\"card-title\" style=\"color: black; background-color: white;\">いまにゅ</span>\n",
       "</div>\n",
       "<div class=\"card-content\">\n",
       "<p><b><p class=\"position\">いまにゅのプログラミング塾｜code4biz 代表</p></b><br/>\n",
       "\n",
       "            『プログラミング×〇〇』でビジネス戦闘力を向上させる｜東京理科大出身｜元東北大学 非常勤講師｜東進デジタルユニバーシティ最年少講師｜AI教育系ベンチャー（キカガク）取締役 → 今｜Udemy受講生3.3万人｜YouTubeチャンネル登録者10.5万人｜プログラミング初学者に欠かせない学習法等を発信<br/>\n",
       "</p>\n",
       "</div>\n",
       "<div class=\"card-action\">\n",
       "<p class=\"subscribers\">受講生の数：20446</p>\n",
       "<p class=\"reviews\">レビューの数：3489</p>\n",
       "</div>\n",
       "</div>\n",
       "</div>\n",
       "</div>\n",
       "</div>\n",
       "</div>\n",
       "<!-- Compiled and minified JavaScript -->\n",
       "<script src=\"https://code.jquery.com/jquery-3.3.1.min.js\"></script>\n",
       "<script src=\"https://cdnjs.cloudflare.com/ajax/libs/materialize/1.0.0-rc.2/js/materialize.min.js\"></script>\n",
       "<script type=\"text/javascript\">\n",
       "    $(document).ready(function() {\n",
       "      $(\".dropdown-trigger\").dropdown();\n",
       "    });\n",
       "  </script>\n",
       "</body>\n",
       "</html>"
      ]
     },
     "execution_count": 7,
     "metadata": {},
     "output_type": "execute_result"
    }
   ],
   "source": [
    "soup"
   ]
  },
  {
   "cell_type": "code",
   "execution_count": 8,
   "id": "chubby-christmas",
   "metadata": {},
   "outputs": [
    {
     "data": {
      "text/plain": [
       "'受講生の数：20446'"
      ]
     },
     "execution_count": 8,
     "metadata": {},
     "output_type": "execute_result"
    }
   ],
   "source": [
    "#n_subscriber = soup.find_all('p', {'class': 'subscribers'}) 一つしかないことを確認\n",
    "n_subscriber = soup.find('p', {'class': 'subscribers'}).text\n",
    "n_subscriber"
   ]
  },
  {
   "cell_type": "code",
   "execution_count": 9,
   "id": "excess-bicycle",
   "metadata": {},
   "outputs": [],
   "source": [
    "n_subscriber = int(n_subscriber.split('：')[1])"
   ]
  },
  {
   "cell_type": "code",
   "execution_count": 10,
   "id": "celtic-wyoming",
   "metadata": {},
   "outputs": [
    {
     "data": {
      "text/plain": [
       "20446"
      ]
     },
     "execution_count": 10,
     "metadata": {},
     "output_type": "execute_result"
    }
   ],
   "source": [
    "n_subscriber"
   ]
  },
  {
   "cell_type": "code",
   "execution_count": 11,
   "id": "revised-bicycle",
   "metadata": {},
   "outputs": [
    {
     "data": {
      "text/plain": [
       "'レビューの数：3489'"
      ]
     },
     "execution_count": 11,
     "metadata": {},
     "output_type": "execute_result"
    }
   ],
   "source": [
    "n_review = soup.find('p', {'class': 'reviews'}).text\n",
    "n_review"
   ]
  },
  {
   "cell_type": "code",
   "execution_count": 12,
   "id": "distinguished-supply",
   "metadata": {},
   "outputs": [
    {
     "data": {
      "text/plain": [
       "3489"
      ]
     },
     "execution_count": 12,
     "metadata": {},
     "output_type": "execute_result"
    }
   ],
   "source": [
    "n_review = int(n_review.split('：')[1])\n",
    "n_review"
   ]
  },
  {
   "cell_type": "code",
   "execution_count": 13,
   "id": "changed-sunset",
   "metadata": {},
   "outputs": [],
   "source": [
    "url_ec = 'https://scraping.official.ec/'"
   ]
  },
  {
   "cell_type": "code",
   "execution_count": 14,
   "id": "former-equity",
   "metadata": {},
   "outputs": [],
   "source": [
    "res = requests.get(url_ec)"
   ]
  },
  {
   "cell_type": "code",
   "execution_count": 15,
   "id": "attractive-leave",
   "metadata": {},
   "outputs": [],
   "source": [
    "soup = BeautifulSoup(res.text, 'html.parser')"
   ]
  },
  {
   "cell_type": "code",
   "execution_count": 16,
   "id": "negative-vacuum",
   "metadata": {
    "collapsed": true,
    "jupyter": {
     "outputs_hidden": true
    }
   },
   "outputs": [
    {
     "data": {
      "text/plain": [
       "<ul class=\"items-grid_itemList_5c97110f\" data-app-item-label=\"\" data-columns-pc=\"4\" data-columns-sp=\"2\" data-currency=\"JPY\" data-current=\"1\" data-endpoint=\"https://scraping.official.ec/load_items/\" data-exchange-rate=\"1\" data-frame=\"on\" data-items=\"4\" data-lang=\"ja\" data-last-page=\"1\" data-transparent=\"\" data-view-layout=\"rectangle\" id=\"itemList\"> <li class=\"items-grid_itemListLI_5c97110f\"> <a class=\"items-grid_anchor_5c97110f js-anchor\" href=\"https://scraping.official.ec/items/40792108\"> <div class=\"items-grid_container_5c97110f\"> <div class=\"items-grid_imageContainer_5c97110f\"> <div class=\"items-grid_imageOuter_5c97110f\"> <div class=\"items-grid_imageInner_5c97110f\"> <img class=\"items-grid_image_5c97110f\" data-src1280=\"https://baseec-img-mng.akamaized.net/images/item/origin/8397aca82a4a0a64729cdd8d327145da.png?imformat=generic&amp;q=90&amp;im=Resize,width=1280,type=normal\" height=\"640\" loading=\"lazy\" src=\"https://baseec-img-mng.akamaized.net/images/item/origin/8397aca82a4a0a64729cdd8d327145da.png?imformat=generic&amp;q=90&amp;im=Resize,width=640,type=normal\" width=\"640\"/> </div> <div class=\"items-grid_infoContainer_5c97110f\"> <div class=\"items-grid_infoHead_5c97110f\"> <div class=\"items-grid_itemTitle_5c97110f\"> <p class=\"items-grid_itemTitleText_5c97110f\">プログラミング学習の相談</p> </div> <div class=\"items-grid_itemPrice_5c97110f\"> <p class=\"items-grid_price_5c97110f\">¥30,000</p> </div> <div class=\"items-grid_itemInfoLabels_5c97110f\"> <p class=\"items-grid_infoItem_5c97110f items-grid_status_5c97110f items-grid_soldOut_5c97110f\">SOLD OUT</p> </div> </div> <div class=\"items-grid_itemDescription_5c97110f\"> <p class=\"items-grid_itemDescriptionText_5c97110f\">プログラミング学習に関する相談をお受けいたします。\n",
       "購入成立後、日程調整を行いZoom URLをお送りいたします。\n",
       "事前にお送りする質問にお答えいただいた上で、1時間の相談会を実施します。\n",
       "主に、何をどのように学んでいけばよいか迷っている方や、プログラミングに躓いて悩んでいる初学者におすすめです。</p> </div> </div> </div> </div> </div> </a> </li> <li class=\"items-grid_itemListLI_5c97110f\"> <a class=\"items-grid_anchor_5c97110f js-anchor\" href=\"https://scraping.official.ec/items/40792153\"> <div class=\"items-grid_container_5c97110f\"> <div class=\"items-grid_imageContainer_5c97110f\"> <div class=\"items-grid_imageOuter_5c97110f\"> <div class=\"items-grid_imageInner_5c97110f\"> <img class=\"items-grid_image_5c97110f\" data-src1280=\"https://baseec-img-mng.akamaized.net/images/item/origin/e493302a92e0de9625b588e0bb4bad6c.png?imformat=generic&amp;q=90&amp;im=Resize,width=1280,type=normal\" height=\"640\" loading=\"lazy\" src=\"https://baseec-img-mng.akamaized.net/images/item/origin/e493302a92e0de9625b588e0bb4bad6c.png?imformat=generic&amp;q=90&amp;im=Resize,width=640,type=normal\" width=\"640\"/> </div> <div class=\"items-grid_infoContainer_5c97110f\"> <div class=\"items-grid_infoHead_5c97110f\"> <div class=\"items-grid_itemTitle_5c97110f\"> <p class=\"items-grid_itemTitleText_5c97110f\">顧問 &amp; アドバイザリー</p> </div> <div class=\"items-grid_itemPrice_5c97110f\"> <p class=\"items-grid_price_5c97110f\">¥100,000</p> </div> <div class=\"items-grid_itemInfoLabels_5c97110f\"> <p class=\"items-grid_infoItem_5c97110f items-grid_status_5c97110f items-grid_soldOut_5c97110f\">SOLD OUT</p> </div> </div> <div class=\"items-grid_itemDescription_5c97110f\"> <p class=\"items-grid_itemDescriptionText_5c97110f\">下記カテゴリにおける企業のアドバイザリーを担当します。\n",
       "\n",
       "・IT/DX化\n",
       "・教育\n",
       "・営業戦略\n",
       "・人事領域（採用、育成）\n",
       "\n",
       "現在とあるブロックチェーンベンチャー企業にて、教育フェローとして教育事業の方針設計から、それにおける採用計画、運用面の設計までのアドバイス、構想立案を行っています。</p> </div> </div> </div> </div> </div> </a> </li> <li class=\"items-grid_itemListLI_5c97110f\"> <a class=\"items-grid_anchor_5c97110f js-anchor\" href=\"https://scraping.official.ec/items/40792284\"> <div class=\"items-grid_container_5c97110f\"> <div class=\"items-grid_imageContainer_5c97110f\"> <div class=\"items-grid_imageOuter_5c97110f\"> <div class=\"items-grid_imageInner_5c97110f\"> <img class=\"items-grid_image_5c97110f\" data-src1280=\"https://baseec-img-mng.akamaized.net/images/item/origin/33afc89ae72e60f1031c64d713911105.png?imformat=generic&amp;q=90&amp;im=Resize,width=1280,type=normal\" height=\"640\" loading=\"lazy\" src=\"https://baseec-img-mng.akamaized.net/images/item/origin/33afc89ae72e60f1031c64d713911105.png?imformat=generic&amp;q=90&amp;im=Resize,width=640,type=normal\" width=\"640\"/> </div> <div class=\"items-grid_infoContainer_5c97110f\"> <div class=\"items-grid_infoHead_5c97110f\"> <div class=\"items-grid_itemTitle_5c97110f\"> <p class=\"items-grid_itemTitleText_5c97110f\">Udemy講座まとめ買いパック</p> </div> <div class=\"items-grid_itemPrice_5c97110f\"> <p class=\"items-grid_price_5c97110f\">¥8,000</p> </div> <div class=\"items-grid_itemInfoLabels_5c97110f\"> <p class=\"items-grid_infoItem_5c97110f items-grid_status_5c97110f items-grid_soldOut_5c97110f\">SOLD OUT</p> </div> </div> <div class=\"items-grid_itemDescription_5c97110f\"> <p class=\"items-grid_itemDescriptionText_5c97110f\">私がUdemyで公開している下記講座4点セットを特別価格で販売いたします。\n",
       "\n",
       "・PythonによるWebスクレイピング〜入門編〜【業務効率化への第一歩】\n",
       "　※定価：15,600円\n",
       "・PythonによるWebスクレイピング 〜Webアプリケーション編〜\n",
       "　※定価：22,800円\n",
       "・ビジネスパーソンに贈る業務効率化大全 〜Google Apps Scriptによる業務の自動化〜\n",
       "　※定価：24,000円\n",
       "・プログラミングを業務で活かす！PythonによるWeb API活用講座\n",
       "　※定価：19,800円</p> </div> </div> </div> </div> </div> </a> </li> <li class=\"items-grid_itemListLI_5c97110f\"> <a class=\"items-grid_anchor_5c97110f js-anchor\" href=\"https://scraping.official.ec/items/40792454\"> <div class=\"items-grid_container_5c97110f\"> <div class=\"items-grid_imageContainer_5c97110f\"> <div class=\"items-grid_imageOuter_5c97110f\"> <div class=\"items-grid_imageInner_5c97110f\"> <img class=\"items-grid_image_5c97110f\" data-src1280=\"https://baseec-img-mng.akamaized.net/images/item/origin/ce284316ad624e6e791f8b3d3165f4bf.png?imformat=generic&amp;q=90&amp;im=Resize,width=1280,type=normal\" height=\"640\" loading=\"lazy\" src=\"https://baseec-img-mng.akamaized.net/images/item/origin/ce284316ad624e6e791f8b3d3165f4bf.png?imformat=generic&amp;q=90&amp;im=Resize,width=640,type=normal\" width=\"640\"/> </div> <div class=\"items-grid_infoContainer_5c97110f\"> <div class=\"items-grid_infoHead_5c97110f\"> <div class=\"items-grid_itemTitle_5c97110f\"> <p class=\"items-grid_itemTitleText_5c97110f\">YouTubeコンサルティング</p> </div> <div class=\"items-grid_itemPrice_5c97110f\"> <p class=\"items-grid_price_5c97110f\">¥15,000</p> </div> <div class=\"items-grid_itemInfoLabels_5c97110f\"> <p class=\"items-grid_infoItem_5c97110f items-grid_status_5c97110f items-grid_soldOut_5c97110f\">SOLD OUT</p> </div> </div> <div class=\"items-grid_itemDescription_5c97110f\"> <p class=\"items-grid_itemDescriptionText_5c97110f\">YouTubeチャンネル運営に関してのコンサルティングを行います。\n",
       "中々伸びずの状況が続いていた私のチャンネルですが、直近は月次5000人以上のペースで増加するまでになりました。\n",
       "\n",
       "試行錯誤の末、溜まってきたノウハウがあります。\n",
       "そのノウハウを元に、大枠の部分から細かな部分までアドバイスを行います。教育系チャンネルは得意領域です。\n",
       "\n",
       "※チャンネル登録者数は2万6千人（2021年3月現在）\n",
       "</p> </div> </div> </div> </div> </div> </a> </li> </ul>"
      ]
     },
     "execution_count": 16,
     "metadata": {},
     "output_type": "execute_result"
    }
   ],
   "source": [
    "item_list = soup.find('ul', {'id': 'itemList'})\n",
    "item_list"
   ]
  },
  {
   "cell_type": "code",
   "execution_count": 17,
   "id": "returning-aviation",
   "metadata": {},
   "outputs": [
    {
     "data": {
      "text/plain": [
       "4"
      ]
     },
     "execution_count": 17,
     "metadata": {},
     "output_type": "execute_result"
    }
   ],
   "source": [
    "len(item_list.find_all('li'))"
   ]
  },
  {
   "cell_type": "code",
   "execution_count": 20,
   "id": "induced-familiar",
   "metadata": {},
   "outputs": [],
   "source": [
    "items = item_list.find_all('li')"
   ]
  },
  {
   "cell_type": "code",
   "execution_count": 21,
   "id": "acting-poland",
   "metadata": {
    "collapsed": true,
    "jupyter": {
     "outputs_hidden": true
    }
   },
   "outputs": [
    {
     "data": {
      "text/plain": [
       "<li class=\"items-grid_itemListLI_5c97110f\"> <a class=\"items-grid_anchor_5c97110f js-anchor\" href=\"https://scraping.official.ec/items/40792108\"> <div class=\"items-grid_container_5c97110f\"> <div class=\"items-grid_imageContainer_5c97110f\"> <div class=\"items-grid_imageOuter_5c97110f\"> <div class=\"items-grid_imageInner_5c97110f\"> <img class=\"items-grid_image_5c97110f\" data-src1280=\"https://baseec-img-mng.akamaized.net/images/item/origin/8397aca82a4a0a64729cdd8d327145da.png?imformat=generic&amp;q=90&amp;im=Resize,width=1280,type=normal\" height=\"640\" loading=\"lazy\" src=\"https://baseec-img-mng.akamaized.net/images/item/origin/8397aca82a4a0a64729cdd8d327145da.png?imformat=generic&amp;q=90&amp;im=Resize,width=640,type=normal\" width=\"640\"/> </div> <div class=\"items-grid_infoContainer_5c97110f\"> <div class=\"items-grid_infoHead_5c97110f\"> <div class=\"items-grid_itemTitle_5c97110f\"> <p class=\"items-grid_itemTitleText_5c97110f\">プログラミング学習の相談</p> </div> <div class=\"items-grid_itemPrice_5c97110f\"> <p class=\"items-grid_price_5c97110f\">¥30,000</p> </div> <div class=\"items-grid_itemInfoLabels_5c97110f\"> <p class=\"items-grid_infoItem_5c97110f items-grid_status_5c97110f items-grid_soldOut_5c97110f\">SOLD OUT</p> </div> </div> <div class=\"items-grid_itemDescription_5c97110f\"> <p class=\"items-grid_itemDescriptionText_5c97110f\">プログラミング学習に関する相談をお受けいたします。\n",
       "購入成立後、日程調整を行いZoom URLをお送りいたします。\n",
       "事前にお送りする質問にお答えいただいた上で、1時間の相談会を実施します。\n",
       "主に、何をどのように学んでいけばよいか迷っている方や、プログラミングに躓いて悩んでいる初学者におすすめです。</p> </div> </div> </div> </div> </div> </a> </li>"
      ]
     },
     "execution_count": 21,
     "metadata": {},
     "output_type": "execute_result"
    }
   ],
   "source": [
    "item = items[0]\n",
    "item"
   ]
  },
  {
   "cell_type": "code",
   "execution_count": 23,
   "id": "charged-tackle",
   "metadata": {},
   "outputs": [
    {
     "data": {
      "text/plain": [
       "'プログラミング学習の相談'"
      ]
     },
     "execution_count": 23,
     "metadata": {},
     "output_type": "execute_result"
    }
   ],
   "source": [
    "title = item.find('p', {'class': 'items-grid_itemTitleText_5c97110f'}).text\n",
    "title"
   ]
  },
  {
   "cell_type": "code",
   "execution_count": 24,
   "id": "complex-cotton",
   "metadata": {},
   "outputs": [
    {
     "data": {
      "text/plain": [
       "'¥30,000'"
      ]
     },
     "execution_count": 24,
     "metadata": {},
     "output_type": "execute_result"
    }
   ],
   "source": [
    "price = item.find('p', {'class': 'items-grid_price_5c97110f'}).text\n",
    "price"
   ]
  },
  {
   "cell_type": "code",
   "execution_count": 25,
   "id": "returning-founder",
   "metadata": {},
   "outputs": [],
   "source": [
    "price = int(price.replace('¥', '').replace(',', ''))"
   ]
  },
  {
   "cell_type": "code",
   "execution_count": 27,
   "id": "centered-subscription",
   "metadata": {},
   "outputs": [
    {
     "data": {
      "text/plain": [
       "30000"
      ]
     },
     "execution_count": 27,
     "metadata": {},
     "output_type": "execute_result"
    }
   ],
   "source": [
    "price"
   ]
  },
  {
   "cell_type": "code",
   "execution_count": 28,
   "id": "bulgarian-programmer",
   "metadata": {},
   "outputs": [
    {
     "data": {
      "text/plain": [
       "1"
      ]
     },
     "execution_count": 28,
     "metadata": {},
     "output_type": "execute_result"
    }
   ],
   "source": [
    "len(item.find_all('a'))"
   ]
  },
  {
   "cell_type": "code",
   "execution_count": 29,
   "id": "spoken-cutting",
   "metadata": {},
   "outputs": [
    {
     "data": {
      "text/plain": [
       "'https://scraping.official.ec/items/40792108'"
      ]
     },
     "execution_count": 29,
     "metadata": {},
     "output_type": "execute_result"
    }
   ],
   "source": [
    "link = item.find('a')['href']\n",
    "link"
   ]
  },
  {
   "cell_type": "code",
   "execution_count": 30,
   "id": "bulgarian-circular",
   "metadata": {},
   "outputs": [
    {
     "data": {
      "text/plain": [
       "False"
      ]
     },
     "execution_count": 30,
     "metadata": {},
     "output_type": "execute_result"
    }
   ],
   "source": [
    "# SOLD OUT\n",
    "items[3].find('p', {'class': 'items-grid_infoItem_5c97110f items-grid_status_5c97110f items-grid_soldOut_5c97110f'})  == None"
   ]
  },
  {
   "cell_type": "code",
   "execution_count": 31,
   "id": "recreational-hierarchy",
   "metadata": {},
   "outputs": [
    {
     "data": {
      "text/plain": [
       "False"
      ]
     },
     "execution_count": 31,
     "metadata": {},
     "output_type": "execute_result"
    }
   ],
   "source": [
    "# 在庫あり\n",
    "items[0].find('p', {'class': 'items-grid_infoItem_5c97110f items-grid_status_5c97110f items-grid_soldOut_5c97110f'})  == None"
   ]
  },
  {
   "cell_type": "code",
   "execution_count": 32,
   "id": "aerial-slope",
   "metadata": {},
   "outputs": [
    {
     "data": {
      "text/plain": [
       "False"
      ]
     },
     "execution_count": 32,
     "metadata": {},
     "output_type": "execute_result"
    }
   ],
   "source": [
    "is_stock = item.find('p', {'class': 'items-grid_infoItem_5c97110f items-grid_status_5c97110f items-grid_soldOut_5c97110f'})  == None\n",
    "is_stock"
   ]
  },
  {
   "cell_type": "code",
   "execution_count": 33,
   "id": "comfortable-credits",
   "metadata": {},
   "outputs": [
    {
     "data": {
      "text/plain": [
       "'在庫なし'"
      ]
     },
     "execution_count": 33,
     "metadata": {},
     "output_type": "execute_result"
    }
   ],
   "source": [
    "is_stock = '在庫あり' if is_stock == True else '在庫なし'\n",
    "is_stock"
   ]
  },
  {
   "cell_type": "code",
   "execution_count": 34,
   "id": "toxic-implement",
   "metadata": {},
   "outputs": [],
   "source": [
    "url_ec = 'https://scraping.official.ec/'\n",
    "res = requests.get(url_ec)\n",
    "soup = BeautifulSoup(res.text, 'html.parser')\n",
    "item_list = soup.find('ul', {'id': 'itemList'})\n",
    "items = item_list.find_all('li')\n",
    "\n",
    "data_ec = []\n",
    "for item in items:\n",
    "    datum_ec = {}\n",
    "    datum_ec['title'] = item.find('p', {'class': 'items-grid_itemTitleText_5c97110f'}).text\n",
    "    price = item.find('p', {'class': 'items-grid_price_5c97110f'}).text\n",
    "    datum_ec['price'] = int(price.replace('¥', '').replace(',', ''))\n",
    "    datum_ec['link'] = item.find('a')['href']\n",
    "    is_stock = item.find('p', {'class': 'items-grid_infoItem_5c97110f items-grid_status_5c97110f items-grid_soldOut_5c97110f'})  == None\n",
    "    datum_ec['is_stock'] = '在庫あり' if is_stock == True else '在庫なし'\n",
    "    data_ec.append(datum_ec)"
   ]
  },
  {
   "cell_type": "code",
   "execution_count": 35,
   "id": "provincial-standard",
   "metadata": {
    "collapsed": true,
    "jupyter": {
     "outputs_hidden": true
    }
   },
   "outputs": [
    {
     "data": {
      "text/plain": [
       "[{'title': 'プログラミング学習の相談',\n",
       "  'price': 30000,\n",
       "  'link': 'https://scraping.official.ec/items/40792108',\n",
       "  'is_stock': '在庫なし'},\n",
       " {'title': '顧問 & アドバイザリー',\n",
       "  'price': 100000,\n",
       "  'link': 'https://scraping.official.ec/items/40792153',\n",
       "  'is_stock': '在庫なし'},\n",
       " {'title': 'Udemy講座まとめ買いパック',\n",
       "  'price': 8000,\n",
       "  'link': 'https://scraping.official.ec/items/40792284',\n",
       "  'is_stock': '在庫なし'},\n",
       " {'title': 'YouTubeコンサルティング',\n",
       "  'price': 15000,\n",
       "  'link': 'https://scraping.official.ec/items/40792454',\n",
       "  'is_stock': '在庫なし'}]"
      ]
     },
     "execution_count": 35,
     "metadata": {},
     "output_type": "execute_result"
    }
   ],
   "source": [
    "data_ec"
   ]
  },
  {
   "cell_type": "markdown",
   "id": "quantitative-rebound",
   "metadata": {},
   "source": [
    "## Udemy"
   ]
  },
  {
   "cell_type": "code",
   "execution_count": 36,
   "id": "cutting-establishment",
   "metadata": {},
   "outputs": [],
   "source": [
    "def get_data_udemy():\n",
    "    url = 'https://scraping-for-beginner.herokuapp.com/udemy'\n",
    "    res = requests.get(url)\n",
    "    soup = BeautifulSoup(res.text, 'html.parser')\n",
    "\n",
    "    n_subscriber = soup.find('p', {'class': 'subscribers'}).text\n",
    "    n_subscriber = int(n_subscriber.split('：')[1])\n",
    "\n",
    "    n_review = soup.find('p', {'class': 'reviews'}).text\n",
    "    n_review = int(n_review.split('：')[1])\n",
    "    return {\n",
    "        'n_subscriber': n_subscriber,\n",
    "        'n_review': n_review\n",
    "    }"
   ]
  },
  {
   "cell_type": "code",
   "execution_count": 37,
   "id": "liberal-requirement",
   "metadata": {},
   "outputs": [
    {
     "data": {
      "text/plain": [
       "{'n_subscriber': 20446, 'n_review': 3489}"
      ]
     },
     "execution_count": 37,
     "metadata": {},
     "output_type": "execute_result"
    }
   ],
   "source": [
    "get_data_udemy()"
   ]
  },
  {
   "cell_type": "markdown",
   "id": "contrary-colombia",
   "metadata": {},
   "source": [
    "## EC"
   ]
  },
  {
   "cell_type": "code",
   "execution_count": 38,
   "id": "sharp-wallpaper",
   "metadata": {},
   "outputs": [],
   "source": [
    "import pandas as pd"
   ]
  },
  {
   "cell_type": "code",
   "execution_count": 39,
   "id": "promising-pension",
   "metadata": {},
   "outputs": [],
   "source": [
    "def get_data_ec():\n",
    "    url_ec = 'https://scraping.official.ec/'\n",
    "    res = requests.get(url_ec)\n",
    "    soup = BeautifulSoup(res.text, 'html.parser')\n",
    "    item_list = soup.find('ul', {'id': 'itemList'})\n",
    "    items = item_list.find_all('li')\n",
    "\n",
    "    data_ec = []\n",
    "    for item in items:\n",
    "        datum_ec = {}\n",
    "        datum_ec['title'] = item.find('p', {'class': 'items-grid_itemTitleText_5c97110f'}).text\n",
    "        price = item.find('p', {'class': 'items-grid_price_5c97110f'}).text\n",
    "        datum_ec['price'] = int(price.replace('¥', '').replace(',', ''))\n",
    "        datum_ec['link'] = item.find('a')['href']\n",
    "        is_stock = item.find('p', {'class': 'items-grid_infoItem_5c97110f items-grid_status_5c97110f items-grid_soldOut_5c97110f'})  == None\n",
    "        datum_ec['is_stock'] = '在庫あり' if is_stock == True else '在庫なし'\n",
    "        data_ec.append(datum_ec)\n",
    "        \n",
    "    df_ec = pd.DataFrame(data_ec)\n",
    "    return df_ec"
   ]
  },
  {
   "cell_type": "code",
   "execution_count": 40,
   "id": "lesser-theology",
   "metadata": {
    "collapsed": true,
    "jupyter": {
     "outputs_hidden": true
    }
   },
   "outputs": [
    {
     "data": {
      "text/html": [
       "<div>\n",
       "<style scoped>\n",
       "    .dataframe tbody tr th:only-of-type {\n",
       "        vertical-align: middle;\n",
       "    }\n",
       "\n",
       "    .dataframe tbody tr th {\n",
       "        vertical-align: top;\n",
       "    }\n",
       "\n",
       "    .dataframe thead th {\n",
       "        text-align: right;\n",
       "    }\n",
       "</style>\n",
       "<table border=\"1\" class=\"dataframe\">\n",
       "  <thead>\n",
       "    <tr style=\"text-align: right;\">\n",
       "      <th></th>\n",
       "      <th>title</th>\n",
       "      <th>price</th>\n",
       "      <th>link</th>\n",
       "      <th>is_stock</th>\n",
       "    </tr>\n",
       "  </thead>\n",
       "  <tbody>\n",
       "    <tr>\n",
       "      <th>0</th>\n",
       "      <td>プログラミング学習の相談</td>\n",
       "      <td>30000</td>\n",
       "      <td>https://scraping.official.ec/items/40792108</td>\n",
       "      <td>在庫なし</td>\n",
       "    </tr>\n",
       "    <tr>\n",
       "      <th>1</th>\n",
       "      <td>顧問 &amp; アドバイザリー</td>\n",
       "      <td>100000</td>\n",
       "      <td>https://scraping.official.ec/items/40792153</td>\n",
       "      <td>在庫なし</td>\n",
       "    </tr>\n",
       "    <tr>\n",
       "      <th>2</th>\n",
       "      <td>Udemy講座まとめ買いパック</td>\n",
       "      <td>8000</td>\n",
       "      <td>https://scraping.official.ec/items/40792284</td>\n",
       "      <td>在庫なし</td>\n",
       "    </tr>\n",
       "    <tr>\n",
       "      <th>3</th>\n",
       "      <td>YouTubeコンサルティング</td>\n",
       "      <td>15000</td>\n",
       "      <td>https://scraping.official.ec/items/40792454</td>\n",
       "      <td>在庫なし</td>\n",
       "    </tr>\n",
       "  </tbody>\n",
       "</table>\n",
       "</div>"
      ],
      "text/plain": [
       "             title   price                                         link  \\\n",
       "0     プログラミング学習の相談   30000  https://scraping.official.ec/items/40792108   \n",
       "1     顧問 & アドバイザリー  100000  https://scraping.official.ec/items/40792153   \n",
       "2  Udemy講座まとめ買いパック    8000  https://scraping.official.ec/items/40792284   \n",
       "3  YouTubeコンサルティング   15000  https://scraping.official.ec/items/40792454   \n",
       "\n",
       "  is_stock  \n",
       "0     在庫なし  \n",
       "1     在庫なし  \n",
       "2     在庫なし  \n",
       "3     在庫なし  "
      ]
     },
     "execution_count": 40,
     "metadata": {},
     "output_type": "execute_result"
    }
   ],
   "source": [
    "get_data_ec()"
   ]
  },
  {
   "cell_type": "code",
   "execution_count": 41,
   "id": "unlikely-delivery",
   "metadata": {
    "collapsed": true,
    "jupyter": {
     "outputs_hidden": true
    }
   },
   "outputs": [
    {
     "name": "stdout",
     "output_type": "stream",
     "text": [
      "Requirement already satisfied: gspread in /Users/ayaka_py/miniconda3/envs/python1024/lib/python3.11/site-packages (5.12.0)\n",
      "Requirement already satisfied: google-auth>=1.12.0 in /Users/ayaka_py/miniconda3/envs/python1024/lib/python3.11/site-packages (from gspread) (2.23.3)\n",
      "Requirement already satisfied: google-auth-oauthlib>=0.4.1 in /Users/ayaka_py/miniconda3/envs/python1024/lib/python3.11/site-packages (from gspread) (1.1.0)\n",
      "Requirement already satisfied: cachetools<6.0,>=2.0.0 in /Users/ayaka_py/miniconda3/envs/python1024/lib/python3.11/site-packages (from google-auth>=1.12.0->gspread) (4.2.2)\n",
      "Requirement already satisfied: pyasn1-modules>=0.2.1 in /Users/ayaka_py/miniconda3/envs/python1024/lib/python3.11/site-packages (from google-auth>=1.12.0->gspread) (0.3.0)\n",
      "Requirement already satisfied: rsa<5,>=3.1.4 in /Users/ayaka_py/miniconda3/envs/python1024/lib/python3.11/site-packages (from google-auth>=1.12.0->gspread) (4.9)\n",
      "Requirement already satisfied: requests-oauthlib>=0.7.0 in /Users/ayaka_py/miniconda3/envs/python1024/lib/python3.11/site-packages (from google-auth-oauthlib>=0.4.1->gspread) (1.3.1)\n",
      "Requirement already satisfied: pyasn1<0.6.0,>=0.4.6 in /Users/ayaka_py/miniconda3/envs/python1024/lib/python3.11/site-packages (from pyasn1-modules>=0.2.1->google-auth>=1.12.0->gspread) (0.5.0)\n",
      "Requirement already satisfied: oauthlib>=3.0.0 in /Users/ayaka_py/miniconda3/envs/python1024/lib/python3.11/site-packages (from requests-oauthlib>=0.7.0->google-auth-oauthlib>=0.4.1->gspread) (3.2.2)\n",
      "Requirement already satisfied: requests>=2.0.0 in /Users/ayaka_py/miniconda3/envs/python1024/lib/python3.11/site-packages (from requests-oauthlib>=0.7.0->google-auth-oauthlib>=0.4.1->gspread) (2.31.0)\n",
      "Requirement already satisfied: charset-normalizer<4,>=2 in /Users/ayaka_py/miniconda3/envs/python1024/lib/python3.11/site-packages (from requests>=2.0.0->requests-oauthlib>=0.7.0->google-auth-oauthlib>=0.4.1->gspread) (2.0.4)\n",
      "Requirement already satisfied: idna<4,>=2.5 in /Users/ayaka_py/miniconda3/envs/python1024/lib/python3.11/site-packages (from requests>=2.0.0->requests-oauthlib>=0.7.0->google-auth-oauthlib>=0.4.1->gspread) (3.4)\n",
      "Requirement already satisfied: urllib3<3,>=1.21.1 in /Users/ayaka_py/miniconda3/envs/python1024/lib/python3.11/site-packages (from requests>=2.0.0->requests-oauthlib>=0.7.0->google-auth-oauthlib>=0.4.1->gspread) (1.26.16)\n",
      "Requirement already satisfied: certifi>=2017.4.17 in /Users/ayaka_py/miniconda3/envs/python1024/lib/python3.11/site-packages (from requests>=2.0.0->requests-oauthlib>=0.7.0->google-auth-oauthlib>=0.4.1->gspread) (2023.7.22)\n",
      "Requirement already satisfied: google in /Users/ayaka_py/miniconda3/envs/python1024/lib/python3.11/site-packages (3.0.0)\n",
      "Requirement already satisfied: beautifulsoup4 in /Users/ayaka_py/miniconda3/envs/python1024/lib/python3.11/site-packages (from google) (4.12.2)\n",
      "Requirement already satisfied: soupsieve>1.2 in /Users/ayaka_py/miniconda3/envs/python1024/lib/python3.11/site-packages (from beautifulsoup4->google) (2.5)\n"
     ]
    }
   ],
   "source": [
    "!pip3 install gspread\n",
    "!pip3 install google"
   ]
  },
  {
   "cell_type": "markdown",
   "id": "8e34c1b1",
   "metadata": {},
   "source": [
    "スプレッドシート連携"
   ]
  },
  {
   "cell_type": "code",
   "execution_count": 42,
   "id": "stuck-option",
   "metadata": {},
   "outputs": [],
   "source": [
    "import gspread\n",
    "from google.oauth2.service_account import Credentials\n",
    "\n",
    "scopes = [\n",
    "    'https://www.googleapis.com/auth/spreadsheets',\n",
    "    'https://www.googleapis.com/auth/drive'\n",
    "]\n",
    "\n",
    "credentials = Credentials.from_service_account_file(\n",
    "    'service_account.json',\n",
    "    scopes=scopes\n",
    ")\n",
    "\n",
    "gc = gspread.authorize(credentials)"
   ]
  },
  {
   "cell_type": "code",
   "execution_count": 43,
   "id": "brilliant-second",
   "metadata": {},
   "outputs": [
    {
     "data": {
      "text/plain": [
       "<gspread.client.Client at 0x12f98f390>"
      ]
     },
     "execution_count": 43,
     "metadata": {},
     "output_type": "execute_result"
    }
   ],
   "source": [
    "gc"
   ]
  },
  {
   "cell_type": "code",
   "execution_count": 44,
   "id": "twelve-liver",
   "metadata": {},
   "outputs": [],
   "source": [
    "SP_SHEET_KEY = '1BUvpl8nKzIOgQrjQwc9jSXmXYXhX8TZehXtSPOnE0FU'\n",
    "sh = gc.open_by_key(SP_SHEET_KEY)"
   ]
  },
  {
   "cell_type": "code",
   "execution_count": 45,
   "id": "awful-health",
   "metadata": {},
   "outputs": [
    {
     "data": {
      "text/plain": [
       "<Spreadsheet 'スクレイピング用DB_Udemy練習' id:1BUvpl8nKzIOgQrjQwc9jSXmXYXhX8TZehXtSPOnE0FU>"
      ]
     },
     "execution_count": 45,
     "metadata": {},
     "output_type": "execute_result"
    }
   ],
   "source": [
    "sh"
   ]
  },
  {
   "cell_type": "code",
   "execution_count": 46,
   "id": "comparative-enough",
   "metadata": {},
   "outputs": [],
   "source": [
    "SP_SHEET = 'db'\n",
    "worksheet = sh.worksheet(SP_SHEET)"
   ]
  },
  {
   "cell_type": "code",
   "execution_count": 47,
   "id": "controversial-malpractice",
   "metadata": {},
   "outputs": [
    {
     "data": {
      "text/plain": [
       "[['date', 'n_subscriber', 'n_review'],\n",
       " ['2021/03/09', '11032', '1882'],\n",
       " ['2021/03/10', '11049', '1885']]"
      ]
     },
     "execution_count": 47,
     "metadata": {},
     "output_type": "execute_result"
    }
   ],
   "source": [
    "data = worksheet.get_all_values()\n",
    "data[:3]"
   ]
  },
  {
   "cell_type": "code",
   "execution_count": 48,
   "id": "renewable-terminal",
   "metadata": {},
   "outputs": [
    {
     "data": {
      "text/html": [
       "<div>\n",
       "<style scoped>\n",
       "    .dataframe tbody tr th:only-of-type {\n",
       "        vertical-align: middle;\n",
       "    }\n",
       "\n",
       "    .dataframe tbody tr th {\n",
       "        vertical-align: top;\n",
       "    }\n",
       "\n",
       "    .dataframe thead th {\n",
       "        text-align: right;\n",
       "    }\n",
       "</style>\n",
       "<table border=\"1\" class=\"dataframe\">\n",
       "  <thead>\n",
       "    <tr style=\"text-align: right;\">\n",
       "      <th></th>\n",
       "      <th>date</th>\n",
       "      <th>n_subscriber</th>\n",
       "      <th>n_review</th>\n",
       "    </tr>\n",
       "  </thead>\n",
       "  <tbody>\n",
       "    <tr>\n",
       "      <th>0</th>\n",
       "      <td>2021/03/09</td>\n",
       "      <td>11032</td>\n",
       "      <td>1882</td>\n",
       "    </tr>\n",
       "    <tr>\n",
       "      <th>1</th>\n",
       "      <td>2021/03/10</td>\n",
       "      <td>11049</td>\n",
       "      <td>1885</td>\n",
       "    </tr>\n",
       "    <tr>\n",
       "      <th>2</th>\n",
       "      <td>2021/03/11</td>\n",
       "      <td>11068</td>\n",
       "      <td>1889</td>\n",
       "    </tr>\n",
       "  </tbody>\n",
       "</table>\n",
       "</div>"
      ],
      "text/plain": [
       "         date n_subscriber n_review\n",
       "0  2021/03/09        11032     1882\n",
       "1  2021/03/10        11049     1885\n",
       "2  2021/03/11        11068     1889"
      ]
     },
     "execution_count": 48,
     "metadata": {},
     "output_type": "execute_result"
    }
   ],
   "source": [
    "df = pd.DataFrame(data[1:], columns=data[0])\n",
    "df[:3]"
   ]
  },
  {
   "cell_type": "code",
   "execution_count": 49,
   "id": "ignored-recovery",
   "metadata": {},
   "outputs": [
    {
     "data": {
      "text/plain": [
       "{'n_subscriber': 20446, 'n_review': 3489}"
      ]
     },
     "execution_count": 49,
     "metadata": {},
     "output_type": "execute_result"
    }
   ],
   "source": [
    "data_udemy = get_data_udemy()\n",
    "data_udemy"
   ]
  },
  {
   "cell_type": "code",
   "execution_count": 50,
   "id": "bigger-interval",
   "metadata": {},
   "outputs": [],
   "source": [
    "import datetime"
   ]
  },
  {
   "cell_type": "code",
   "execution_count": 51,
   "id": "collect-antenna",
   "metadata": {},
   "outputs": [
    {
     "data": {
      "text/plain": [
       "'2023/11/11'"
      ]
     },
     "execution_count": 51,
     "metadata": {},
     "output_type": "execute_result"
    }
   ],
   "source": [
    "today = datetime.date.today().strftime('%Y/%m/%d')\n",
    "today"
   ]
  },
  {
   "cell_type": "code",
   "execution_count": 52,
   "id": "sonic-publisher",
   "metadata": {},
   "outputs": [],
   "source": [
    "data_udemy['date'] = today"
   ]
  },
  {
   "cell_type": "code",
   "execution_count": 53,
   "id": "beneficial-dining",
   "metadata": {},
   "outputs": [
    {
     "data": {
      "text/plain": [
       "{'n_subscriber': 20446, 'n_review': 3489, 'date': '2023/11/11'}"
      ]
     },
     "execution_count": 53,
     "metadata": {},
     "output_type": "execute_result"
    }
   ],
   "source": [
    "data_udemy"
   ]
  },
  {
   "cell_type": "code",
   "execution_count": 55,
   "id": "resistant-technician",
   "metadata": {},
   "outputs": [
    {
     "data": {
      "text/html": [
       "<div>\n",
       "<style scoped>\n",
       "    .dataframe tbody tr th:only-of-type {\n",
       "        vertical-align: middle;\n",
       "    }\n",
       "\n",
       "    .dataframe tbody tr th {\n",
       "        vertical-align: top;\n",
       "    }\n",
       "\n",
       "    .dataframe thead th {\n",
       "        text-align: right;\n",
       "    }\n",
       "</style>\n",
       "<table border=\"1\" class=\"dataframe\">\n",
       "  <thead>\n",
       "    <tr style=\"text-align: right;\">\n",
       "      <th></th>\n",
       "      <th>date</th>\n",
       "      <th>n_subscriber</th>\n",
       "      <th>n_review</th>\n",
       "    </tr>\n",
       "  </thead>\n",
       "  <tbody>\n",
       "    <tr>\n",
       "      <th>625</th>\n",
       "      <td>2022/11/26</td>\n",
       "      <td>17886</td>\n",
       "      <td>3093</td>\n",
       "    </tr>\n",
       "    <tr>\n",
       "      <th>626</th>\n",
       "      <td>2022/11/27</td>\n",
       "      <td>17902</td>\n",
       "      <td>3096</td>\n",
       "    </tr>\n",
       "    <tr>\n",
       "      <th>627</th>\n",
       "      <td>2022/11/28</td>\n",
       "      <td>17934</td>\n",
       "      <td>3097</td>\n",
       "    </tr>\n",
       "    <tr>\n",
       "      <th>628</th>\n",
       "      <td>2022/11/29</td>\n",
       "      <td>17959</td>\n",
       "      <td>3100</td>\n",
       "    </tr>\n",
       "    <tr>\n",
       "      <th>629</th>\n",
       "      <td>2023/11/11</td>\n",
       "      <td>20446</td>\n",
       "      <td>3489</td>\n",
       "    </tr>\n",
       "  </tbody>\n",
       "</table>\n",
       "</div>"
      ],
      "text/plain": [
       "           date n_subscriber n_review\n",
       "625  2022/11/26        17886     3093\n",
       "626  2022/11/27        17902     3096\n",
       "627  2022/11/28        17934     3097\n",
       "628  2022/11/29        17959     3100\n",
       "629  2023/11/11        20446     3489"
      ]
     },
     "execution_count": 55,
     "metadata": {},
     "output_type": "execute_result"
    }
   ],
   "source": [
    "#シートのデータと新しくとってきたデータを結合\n",
    "#df = df.append(data_udemy, ignore_index=True)\n",
    "df= pd.concat([df, pd.DataFrame([data_udemy])], ignore_index=True)\n",
    "\n",
    "df.tail()"
   ]
  },
  {
   "cell_type": "code",
   "execution_count": 56,
   "id": "nearby-sellers",
   "metadata": {
    "collapsed": true,
    "jupyter": {
     "outputs_hidden": true
    }
   },
   "outputs": [
    {
     "name": "stdout",
     "output_type": "stream",
     "text": [
      "Requirement already satisfied: gspread-dataframe in /Users/ayaka_py/miniconda3/envs/python1024/lib/python3.11/site-packages (3.3.1)\n",
      "Requirement already satisfied: gspread>=3.0.0 in /Users/ayaka_py/miniconda3/envs/python1024/lib/python3.11/site-packages (from gspread-dataframe) (5.12.0)\n",
      "Requirement already satisfied: pandas>=0.24.0 in /Users/ayaka_py/miniconda3/envs/python1024/lib/python3.11/site-packages (from gspread-dataframe) (2.1.1)\n",
      "Requirement already satisfied: six>=1.12.0 in /Users/ayaka_py/miniconda3/envs/python1024/lib/python3.11/site-packages (from gspread-dataframe) (1.16.0)\n",
      "Requirement already satisfied: google-auth>=1.12.0 in /Users/ayaka_py/miniconda3/envs/python1024/lib/python3.11/site-packages (from gspread>=3.0.0->gspread-dataframe) (2.23.3)\n",
      "Requirement already satisfied: google-auth-oauthlib>=0.4.1 in /Users/ayaka_py/miniconda3/envs/python1024/lib/python3.11/site-packages (from gspread>=3.0.0->gspread-dataframe) (1.1.0)\n",
      "Requirement already satisfied: numpy>=1.23.2 in /Users/ayaka_py/miniconda3/envs/python1024/lib/python3.11/site-packages (from pandas>=0.24.0->gspread-dataframe) (1.26.0)\n",
      "Requirement already satisfied: python-dateutil>=2.8.2 in /Users/ayaka_py/miniconda3/envs/python1024/lib/python3.11/site-packages (from pandas>=0.24.0->gspread-dataframe) (2.8.2)\n",
      "Requirement already satisfied: pytz>=2020.1 in /Users/ayaka_py/miniconda3/envs/python1024/lib/python3.11/site-packages (from pandas>=0.24.0->gspread-dataframe) (2023.3.post1)\n",
      "Requirement already satisfied: tzdata>=2022.1 in /Users/ayaka_py/miniconda3/envs/python1024/lib/python3.11/site-packages (from pandas>=0.24.0->gspread-dataframe) (2023.3)\n",
      "Requirement already satisfied: cachetools<6.0,>=2.0.0 in /Users/ayaka_py/miniconda3/envs/python1024/lib/python3.11/site-packages (from google-auth>=1.12.0->gspread>=3.0.0->gspread-dataframe) (4.2.2)\n",
      "Requirement already satisfied: pyasn1-modules>=0.2.1 in /Users/ayaka_py/miniconda3/envs/python1024/lib/python3.11/site-packages (from google-auth>=1.12.0->gspread>=3.0.0->gspread-dataframe) (0.3.0)\n",
      "Requirement already satisfied: rsa<5,>=3.1.4 in /Users/ayaka_py/miniconda3/envs/python1024/lib/python3.11/site-packages (from google-auth>=1.12.0->gspread>=3.0.0->gspread-dataframe) (4.9)\n",
      "Requirement already satisfied: requests-oauthlib>=0.7.0 in /Users/ayaka_py/miniconda3/envs/python1024/lib/python3.11/site-packages (from google-auth-oauthlib>=0.4.1->gspread>=3.0.0->gspread-dataframe) (1.3.1)\n",
      "Requirement already satisfied: pyasn1<0.6.0,>=0.4.6 in /Users/ayaka_py/miniconda3/envs/python1024/lib/python3.11/site-packages (from pyasn1-modules>=0.2.1->google-auth>=1.12.0->gspread>=3.0.0->gspread-dataframe) (0.5.0)\n",
      "Requirement already satisfied: oauthlib>=3.0.0 in /Users/ayaka_py/miniconda3/envs/python1024/lib/python3.11/site-packages (from requests-oauthlib>=0.7.0->google-auth-oauthlib>=0.4.1->gspread>=3.0.0->gspread-dataframe) (3.2.2)\n",
      "Requirement already satisfied: requests>=2.0.0 in /Users/ayaka_py/miniconda3/envs/python1024/lib/python3.11/site-packages (from requests-oauthlib>=0.7.0->google-auth-oauthlib>=0.4.1->gspread>=3.0.0->gspread-dataframe) (2.31.0)\n",
      "Requirement already satisfied: charset-normalizer<4,>=2 in /Users/ayaka_py/miniconda3/envs/python1024/lib/python3.11/site-packages (from requests>=2.0.0->requests-oauthlib>=0.7.0->google-auth-oauthlib>=0.4.1->gspread>=3.0.0->gspread-dataframe) (2.0.4)\n",
      "Requirement already satisfied: idna<4,>=2.5 in /Users/ayaka_py/miniconda3/envs/python1024/lib/python3.11/site-packages (from requests>=2.0.0->requests-oauthlib>=0.7.0->google-auth-oauthlib>=0.4.1->gspread>=3.0.0->gspread-dataframe) (3.4)\n",
      "Requirement already satisfied: urllib3<3,>=1.21.1 in /Users/ayaka_py/miniconda3/envs/python1024/lib/python3.11/site-packages (from requests>=2.0.0->requests-oauthlib>=0.7.0->google-auth-oauthlib>=0.4.1->gspread>=3.0.0->gspread-dataframe) (1.26.16)\n",
      "Requirement already satisfied: certifi>=2017.4.17 in /Users/ayaka_py/miniconda3/envs/python1024/lib/python3.11/site-packages (from requests>=2.0.0->requests-oauthlib>=0.7.0->google-auth-oauthlib>=0.4.1->gspread>=3.0.0->gspread-dataframe) (2023.7.22)\n"
     ]
    }
   ],
   "source": [
    "!pip3 install gspread-dataframe"
   ]
  },
  {
   "cell_type": "code",
   "execution_count": 57,
   "id": "meaningful-brand",
   "metadata": {},
   "outputs": [],
   "source": [
    "from gspread_dataframe import set_with_dataframe"
   ]
  },
  {
   "cell_type": "code",
   "execution_count": 58,
   "id": "imposed-ebony",
   "metadata": {},
   "outputs": [],
   "source": [
    "#ワークシートにデータ入れる　引数：ワークシート、データ、行、列\n",
    "set_with_dataframe(worksheet, df, row=1, col=1)"
   ]
  },
  {
   "cell_type": "markdown",
   "id": "d92d3a48",
   "metadata": {},
   "source": [
    "スプレッドシートのデータでグラフ作る"
   ]
  },
  {
   "cell_type": "code",
   "execution_count": 59,
   "id": "satellite-maker",
   "metadata": {},
   "outputs": [
    {
     "data": {
      "text/html": [
       "<div>\n",
       "<style scoped>\n",
       "    .dataframe tbody tr th:only-of-type {\n",
       "        vertical-align: middle;\n",
       "    }\n",
       "\n",
       "    .dataframe tbody tr th {\n",
       "        vertical-align: top;\n",
       "    }\n",
       "\n",
       "    .dataframe thead th {\n",
       "        text-align: right;\n",
       "    }\n",
       "</style>\n",
       "<table border=\"1\" class=\"dataframe\">\n",
       "  <thead>\n",
       "    <tr style=\"text-align: right;\">\n",
       "      <th></th>\n",
       "      <th>date</th>\n",
       "      <th>n_subscriber</th>\n",
       "      <th>n_review</th>\n",
       "    </tr>\n",
       "  </thead>\n",
       "  <tbody>\n",
       "    <tr>\n",
       "      <th>0</th>\n",
       "      <td>2021/03/09</td>\n",
       "      <td>11032</td>\n",
       "      <td>1882</td>\n",
       "    </tr>\n",
       "    <tr>\n",
       "      <th>1</th>\n",
       "      <td>2021/03/10</td>\n",
       "      <td>11049</td>\n",
       "      <td>1885</td>\n",
       "    </tr>\n",
       "    <tr>\n",
       "      <th>2</th>\n",
       "      <td>2021/03/11</td>\n",
       "      <td>11068</td>\n",
       "      <td>1889</td>\n",
       "    </tr>\n",
       "  </tbody>\n",
       "</table>\n",
       "</div>"
      ],
      "text/plain": [
       "         date n_subscriber n_review\n",
       "0  2021/03/09        11032     1882\n",
       "1  2021/03/10        11049     1885\n",
       "2  2021/03/11        11068     1889"
      ]
     },
     "execution_count": 59,
     "metadata": {},
     "output_type": "execute_result"
    }
   ],
   "source": [
    "data = worksheet.get_all_values()\n",
    "df_udemy = pd.DataFrame(data[1:], columns=data[0])\n",
    "df_udemy[:3]"
   ]
  },
  {
   "cell_type": "code",
   "execution_count": 60,
   "id": "greatest-antigua",
   "metadata": {},
   "outputs": [],
   "source": [
    "import altair as alt"
   ]
  },
  {
   "cell_type": "code",
   "execution_count": 61,
   "id": "documentary-proceeding",
   "metadata": {},
   "outputs": [],
   "source": [
    "#型変換\n",
    "df_udemy = df_udemy.astype({\n",
    "    'n_subscriber': int,\n",
    "    'n_review': int    \n",
    "})"
   ]
  },
  {
   "cell_type": "code",
   "execution_count": 62,
   "id": "stupid-princess",
   "metadata": {},
   "outputs": [],
   "source": [
    "ymin1 = df_udemy['n_subscriber'].min() - 10\n",
    "ymax1 = df_udemy['n_subscriber'].max() + 10\n",
    "\n",
    "ymin2 = df_udemy['n_review'].min() - 10\n",
    "ymax2 = df_udemy['n_review'].max() + 10"
   ]
  },
  {
   "cell_type": "code",
   "execution_count": 63,
   "id": "advisory-phrase",
   "metadata": {},
   "outputs": [],
   "source": [
    "base = alt.Chart(df_udemy).encode(\n",
    "    alt.X('date:T', axis=alt.Axis(title=None))\n",
    ")\n",
    "\n",
    "line1 = base.mark_line(opacity=0.3, color='#57A44C').encode(\n",
    "    alt.Y('n_subscriber',\n",
    "          axis=alt.Axis(title='受講生数', titleColor='#57A44C'),\n",
    "          scale=alt.Scale(domain=[ymin1, ymax1])\n",
    "         )\n",
    ")\n",
    "\n",
    "line2 = base.mark_line(stroke='#5276A7', interpolate='monotone').encode(\n",
    "    alt.Y('n_review',\n",
    "          axis=alt.Axis(title='レビュー数', titleColor='#5276A7'),\n",
    "          scale=alt.Scale(domain=[ymin2, ymax2])\n",
    "         )\n",
    ")\n",
    "\n",
    "chart = alt.layer(line1, line2).resolve_scale(\n",
    "    y = 'independent'\n",
    ")"
   ]
  },
  {
   "cell_type": "code",
   "execution_count": 64,
   "id": "competitive-process",
   "metadata": {},
   "outputs": [
    {
     "name": "stderr",
     "output_type": "stream",
     "text": [
      "/Users/ayaka_py/miniconda3/envs/python1024/lib/python3.11/site-packages/altair/utils/core.py:395: FutureWarning: the convert_dtype parameter is deprecated and will be removed in a future version.  Do ``ser.astype(object).apply()`` instead if you want ``convert_dtype=False``.\n",
      "  col = df[col_name].apply(to_list_if_array, convert_dtype=False)\n"
     ]
    },
    {
     "data": {
      "text/html": [
       "\n",
       "<style>\n",
       "  #altair-viz-eb272014bdfd4d8a9612f871384ecb72.vega-embed {\n",
       "    width: 100%;\n",
       "    display: flex;\n",
       "  }\n",
       "\n",
       "  #altair-viz-eb272014bdfd4d8a9612f871384ecb72.vega-embed details,\n",
       "  #altair-viz-eb272014bdfd4d8a9612f871384ecb72.vega-embed details summary {\n",
       "    position: relative;\n",
       "  }\n",
       "</style>\n",
       "<div id=\"altair-viz-eb272014bdfd4d8a9612f871384ecb72\"></div>\n",
       "<script type=\"text/javascript\">\n",
       "  var VEGA_DEBUG = (typeof VEGA_DEBUG == \"undefined\") ? {} : VEGA_DEBUG;\n",
       "  (function(spec, embedOpt){\n",
       "    let outputDiv = document.currentScript.previousElementSibling;\n",
       "    if (outputDiv.id !== \"altair-viz-eb272014bdfd4d8a9612f871384ecb72\") {\n",
       "      outputDiv = document.getElementById(\"altair-viz-eb272014bdfd4d8a9612f871384ecb72\");\n",
       "    }\n",
       "    const paths = {\n",
       "      \"vega\": \"https://cdn.jsdelivr.net/npm/vega@5?noext\",\n",
       "      \"vega-lib\": \"https://cdn.jsdelivr.net/npm/vega-lib?noext\",\n",
       "      \"vega-lite\": \"https://cdn.jsdelivr.net/npm/vega-lite@5.8.0?noext\",\n",
       "      \"vega-embed\": \"https://cdn.jsdelivr.net/npm/vega-embed@6?noext\",\n",
       "    };\n",
       "\n",
       "    function maybeLoadScript(lib, version) {\n",
       "      var key = `${lib.replace(\"-\", \"\")}_version`;\n",
       "      return (VEGA_DEBUG[key] == version) ?\n",
       "        Promise.resolve(paths[lib]) :\n",
       "        new Promise(function(resolve, reject) {\n",
       "          var s = document.createElement('script');\n",
       "          document.getElementsByTagName(\"head\")[0].appendChild(s);\n",
       "          s.async = true;\n",
       "          s.onload = () => {\n",
       "            VEGA_DEBUG[key] = version;\n",
       "            return resolve(paths[lib]);\n",
       "          };\n",
       "          s.onerror = () => reject(`Error loading script: ${paths[lib]}`);\n",
       "          s.src = paths[lib];\n",
       "        });\n",
       "    }\n",
       "\n",
       "    function showError(err) {\n",
       "      outputDiv.innerHTML = `<div class=\"error\" style=\"color:red;\">${err}</div>`;\n",
       "      throw err;\n",
       "    }\n",
       "\n",
       "    function displayChart(vegaEmbed) {\n",
       "      vegaEmbed(outputDiv, spec, embedOpt)\n",
       "        .catch(err => showError(`Javascript Error: ${err.message}<br>This usually means there's a typo in your chart specification. See the javascript console for the full traceback.`));\n",
       "    }\n",
       "\n",
       "    if(typeof define === \"function\" && define.amd) {\n",
       "      requirejs.config({paths});\n",
       "      require([\"vega-embed\"], displayChart, err => showError(`Error loading script: ${err.message}`));\n",
       "    } else {\n",
       "      maybeLoadScript(\"vega\", \"5\")\n",
       "        .then(() => maybeLoadScript(\"vega-lite\", \"5.8.0\"))\n",
       "        .then(() => maybeLoadScript(\"vega-embed\", \"6\"))\n",
       "        .catch(showError)\n",
       "        .then(() => displayChart(vegaEmbed));\n",
       "    }\n",
       "  })({\"config\": {\"view\": {\"continuousWidth\": 300, \"continuousHeight\": 300}}, \"layer\": [{\"mark\": {\"type\": \"line\", \"color\": \"#57A44C\", \"opacity\": 0.3}, \"encoding\": {\"x\": {\"axis\": {\"title\": null}, \"field\": \"date\", \"type\": \"temporal\"}, \"y\": {\"axis\": {\"title\": \"\\u53d7\\u8b1b\\u751f\\u6570\", \"titleColor\": \"#57A44C\"}, \"field\": \"n_subscriber\", \"scale\": {\"domain\": [11022, 20456]}, \"type\": \"quantitative\"}}}, {\"mark\": {\"type\": \"line\", \"interpolate\": \"monotone\", \"stroke\": \"#5276A7\"}, \"encoding\": {\"x\": {\"axis\": {\"title\": null}, \"field\": \"date\", \"type\": \"temporal\"}, \"y\": {\"axis\": {\"title\": \"\\u30ec\\u30d3\\u30e5\\u30fc\\u6570\", \"titleColor\": \"#5276A7\"}, \"field\": \"n_review\", \"scale\": {\"domain\": [1872, 3499]}, \"type\": \"quantitative\"}}}], \"data\": {\"name\": \"data-e0945cf4eea24913efa53dbf18cde8c8\"}, \"resolve\": {\"scale\": {\"y\": \"independent\"}}, \"$schema\": \"https://vega.github.io/schema/vega-lite/v5.8.0.json\", \"datasets\": {\"data-e0945cf4eea24913efa53dbf18cde8c8\": [{\"date\": \"2021/03/09\", \"n_subscriber\": 11032, \"n_review\": 1882}, {\"date\": \"2021/03/10\", \"n_subscriber\": 11049, \"n_review\": 1885}, {\"date\": \"2021/03/11\", \"n_subscriber\": 11068, \"n_review\": 1889}, {\"date\": \"2021/03/12\", \"n_subscriber\": 11070, \"n_review\": 1891}, {\"date\": \"2021/03/13\", \"n_subscriber\": 11074, \"n_review\": 1894}, {\"date\": \"2021/03/14\", \"n_subscriber\": 11075, \"n_review\": 1898}, {\"date\": \"2021/03/15\", \"n_subscriber\": 11093, \"n_review\": 1903}, {\"date\": \"2021/03/16\", \"n_subscriber\": 11095, \"n_review\": 1904}, {\"date\": \"2021/03/17\", \"n_subscriber\": 11114, \"n_review\": 1909}, {\"date\": \"2021/03/18\", \"n_subscriber\": 11123, \"n_review\": 1911}, {\"date\": \"2021/03/19\", \"n_subscriber\": 11143, \"n_review\": 1916}, {\"date\": \"2021/03/20\", \"n_subscriber\": 11158, \"n_review\": 1921}, {\"date\": \"2021/03/21\", \"n_subscriber\": 11158, \"n_review\": 1922}, {\"date\": \"2021/03/22\", \"n_subscriber\": 11164, \"n_review\": 1925}, {\"date\": \"2021/03/23\", \"n_subscriber\": 11176, \"n_review\": 1928}, {\"date\": \"2021/03/24\", \"n_subscriber\": 11182, \"n_review\": 1928}, {\"date\": \"2021/03/25\", \"n_subscriber\": 11197, \"n_review\": 1930}, {\"date\": \"2021/03/26\", \"n_subscriber\": 11202, \"n_review\": 1930}, {\"date\": \"2021/03/27\", \"n_subscriber\": 11213, \"n_review\": 1934}, {\"date\": \"2021/03/28\", \"n_subscriber\": 11216, \"n_review\": 1935}, {\"date\": \"2021/03/29\", \"n_subscriber\": 11227, \"n_review\": 1936}, {\"date\": \"2021/03/30\", \"n_subscriber\": 11246, \"n_review\": 1939}, {\"date\": \"2021/03/31\", \"n_subscriber\": 11260, \"n_review\": 1939}, {\"date\": \"2021/04/01\", \"n_subscriber\": 11260, \"n_review\": 1939}, {\"date\": \"2021/04/02\", \"n_subscriber\": 11261, \"n_review\": 1942}, {\"date\": \"2021/04/03\", \"n_subscriber\": 11274, \"n_review\": 1944}, {\"date\": \"2021/04/04\", \"n_subscriber\": 11287, \"n_review\": 1946}, {\"date\": \"2021/04/05\", \"n_subscriber\": 11295, \"n_review\": 1948}, {\"date\": \"2021/04/06\", \"n_subscriber\": 11296, \"n_review\": 1950}, {\"date\": \"2021/04/07\", \"n_subscriber\": 11306, \"n_review\": 1955}, {\"date\": \"2021/04/08\", \"n_subscriber\": 11343, \"n_review\": 1958}, {\"date\": \"2021/04/09\", \"n_subscriber\": 11373, \"n_review\": 1958}, {\"date\": \"2021/04/09\", \"n_subscriber\": 11375, \"n_review\": 1961}, {\"date\": \"2021/04/10\", \"n_subscriber\": 11377, \"n_review\": 1962}, {\"date\": \"2021/04/11\", \"n_subscriber\": 11378, \"n_review\": 1964}, {\"date\": \"2021/04/12\", \"n_subscriber\": 11381, \"n_review\": 1967}, {\"date\": \"2021/04/13\", \"n_subscriber\": 11388, \"n_review\": 1970}, {\"date\": \"2021/04/14\", \"n_subscriber\": 11395, \"n_review\": 1970}, {\"date\": \"2021/04/15\", \"n_subscriber\": 11410, \"n_review\": 1973}, {\"date\": \"2021/04/16\", \"n_subscriber\": 11418, \"n_review\": 1975}, {\"date\": \"2021/04/17\", \"n_subscriber\": 11422, \"n_review\": 1977}, {\"date\": \"2021/04/18\", \"n_subscriber\": 11425, \"n_review\": 1977}, {\"date\": \"2021/04/19\", \"n_subscriber\": 11439, \"n_review\": 1980}, {\"date\": \"2021/04/20\", \"n_subscriber\": 11448, \"n_review\": 1981}, {\"date\": \"2021/04/21\", \"n_subscriber\": 11458, \"n_review\": 1984}, {\"date\": \"2021/04/22\", \"n_subscriber\": 11460, \"n_review\": 1984}, {\"date\": \"2021/04/23\", \"n_subscriber\": 11467, \"n_review\": 1986}, {\"date\": \"2021/04/24\", \"n_subscriber\": 11470, \"n_review\": 1986}, {\"date\": \"2021/04/25\", \"n_subscriber\": 11473, \"n_review\": 1988}, {\"date\": \"2021/04/26\", \"n_subscriber\": 11478, \"n_review\": 1988}, {\"date\": \"2021/04/27\", \"n_subscriber\": 11497, \"n_review\": 1991}, {\"date\": \"2021/04/28\", \"n_subscriber\": 11505, \"n_review\": 1991}, {\"date\": \"2021/04/29\", \"n_subscriber\": 11524, \"n_review\": 1996}, {\"date\": \"2021/04/30\", \"n_subscriber\": 11531, \"n_review\": 1996}, {\"date\": \"2021/05/01\", \"n_subscriber\": 11536, \"n_review\": 1999}, {\"date\": \"2021/05/02\", \"n_subscriber\": 11543, \"n_review\": 2004}, {\"date\": \"2021/05/03\", \"n_subscriber\": 11559, \"n_review\": 2007}, {\"date\": \"2021/05/04\", \"n_subscriber\": 11580, \"n_review\": 2011}, {\"date\": \"2021/05/05\", \"n_subscriber\": 11599, \"n_review\": 2013}, {\"date\": \"2021/05/06\", \"n_subscriber\": 11623, \"n_review\": 2016}, {\"date\": \"2021/05/07\", \"n_subscriber\": 11635, \"n_review\": 2020}, {\"date\": \"2021/05/08\", \"n_subscriber\": 11639, \"n_review\": 2026}, {\"date\": \"2021/05/09\", \"n_subscriber\": 11645, \"n_review\": 2030}, {\"date\": \"2021/05/10\", \"n_subscriber\": 11647, \"n_review\": 2030}, {\"date\": \"2021/05/11\", \"n_subscriber\": 11659, \"n_review\": 2031}, {\"date\": \"2021/05/12\", \"n_subscriber\": 11667, \"n_review\": 2034}, {\"date\": \"2021/05/13\", \"n_subscriber\": 11675, \"n_review\": 2039}, {\"date\": \"2021/05/14\", \"n_subscriber\": 11681, \"n_review\": 2039}, {\"date\": \"2021/05/15\", \"n_subscriber\": 11688, \"n_review\": 2041}, {\"date\": \"2021/05/16\", \"n_subscriber\": 11695, \"n_review\": 2042}, {\"date\": \"2021/05/17\", \"n_subscriber\": 11701, \"n_review\": 2042}, {\"date\": \"2021/05/18\", \"n_subscriber\": 11725, \"n_review\": 2046}, {\"date\": \"2021/05/19\", \"n_subscriber\": 11743, \"n_review\": 2048}, {\"date\": \"2021/05/20\", \"n_subscriber\": 11765, \"n_review\": 2054}, {\"date\": \"2021/05/21\", \"n_subscriber\": 11787, \"n_review\": 2054}, {\"date\": \"2021/05/22\", \"n_subscriber\": 11794, \"n_review\": 2058}, {\"date\": \"2021/05/23\", \"n_subscriber\": 11818, \"n_review\": 2063}, {\"date\": \"2021/05/24\", \"n_subscriber\": 11845, \"n_review\": 2065}, {\"date\": \"2021/05/25\", \"n_subscriber\": 11863, \"n_review\": 2066}, {\"date\": \"2021/05/26\", \"n_subscriber\": 11885, \"n_review\": 2069}, {\"date\": \"2021/05/27\", \"n_subscriber\": 11933, \"n_review\": 2075}, {\"date\": \"2021/05/28\", \"n_subscriber\": 11976, \"n_review\": 2076}, {\"date\": \"2021/05/29\", \"n_subscriber\": 11983, \"n_review\": 2077}, {\"date\": \"2021/05/30\", \"n_subscriber\": 11985, \"n_review\": 2079}, {\"date\": \"2021/05/31\", \"n_subscriber\": 11991, \"n_review\": 2081}, {\"date\": \"2021/06/01\", \"n_subscriber\": 11999, \"n_review\": 2083}, {\"date\": \"2021/06/02\", \"n_subscriber\": 12006, \"n_review\": 2083}, {\"date\": \"2021/06/03\", \"n_subscriber\": 12025, \"n_review\": 2089}, {\"date\": \"2021/06/04\", \"n_subscriber\": 12040, \"n_review\": 2089}, {\"date\": \"2021/06/05\", \"n_subscriber\": 12041, \"n_review\": 2092}, {\"date\": \"2021/06/06\", \"n_subscriber\": 12044, \"n_review\": 2095}, {\"date\": \"2021/06/07\", \"n_subscriber\": 12050, \"n_review\": 2098}, {\"date\": \"2021/06/08\", \"n_subscriber\": 12067, \"n_review\": 2099}, {\"date\": \"2021/06/09\", \"n_subscriber\": 12082, \"n_review\": 2102}, {\"date\": \"2021/06/10\", \"n_subscriber\": 12088, \"n_review\": 2104}, {\"date\": \"2021/06/11\", \"n_subscriber\": 12096, \"n_review\": 2107}, {\"date\": \"2021/06/12\", \"n_subscriber\": 12106, \"n_review\": 2110}, {\"date\": \"2021/06/13\", \"n_subscriber\": 12110, \"n_review\": 2112}, {\"date\": \"2021/06/14\", \"n_subscriber\": 12120, \"n_review\": 2115}, {\"date\": \"2021/06/15\", \"n_subscriber\": 12130, \"n_review\": 2116}, {\"date\": \"2021/06/16\", \"n_subscriber\": 12149, \"n_review\": 2119}, {\"date\": \"2021/06/17\", \"n_subscriber\": 12164, \"n_review\": 2120}, {\"date\": \"2021/06/18\", \"n_subscriber\": 12171, \"n_review\": 2120}, {\"date\": \"2021/06/19\", \"n_subscriber\": 12177, \"n_review\": 2127}, {\"date\": \"2021/06/20\", \"n_subscriber\": 12183, \"n_review\": 2129}, {\"date\": \"2021/06/21\", \"n_subscriber\": 12188, \"n_review\": 2131}, {\"date\": \"2021/06/22\", \"n_subscriber\": 12188, \"n_review\": 2135}, {\"date\": \"2021/06/24\", \"n_subscriber\": 12209, \"n_review\": 2137}, {\"date\": \"2021/06/25\", \"n_subscriber\": 12222, \"n_review\": 2141}, {\"date\": \"2021/06/26\", \"n_subscriber\": 12234, \"n_review\": 2145}, {\"date\": \"2021/06/27\", \"n_subscriber\": 12239, \"n_review\": 2146}, {\"date\": \"2021/06/28\", \"n_subscriber\": 12244, \"n_review\": 2150}, {\"date\": \"2021/06/29\", \"n_subscriber\": 12249, \"n_review\": 2154}, {\"date\": \"2021/06/30\", \"n_subscriber\": 12262, \"n_review\": 2154}, {\"date\": \"2021/07/01\", \"n_subscriber\": 12268, \"n_review\": 2155}, {\"date\": \"2021/07/02\", \"n_subscriber\": 12279, \"n_review\": 2156}, {\"date\": \"2021/07/03\", \"n_subscriber\": 12282, \"n_review\": 2157}, {\"date\": \"2021/07/04\", \"n_subscriber\": 12288, \"n_review\": 2158}, {\"date\": \"2021/07/05\", \"n_subscriber\": 12294, \"n_review\": 2159}, {\"date\": \"2021/07/06\", \"n_subscriber\": 12310, \"n_review\": 2161}, {\"date\": \"2021/07/07\", \"n_subscriber\": 12326, \"n_review\": 2165}, {\"date\": \"2021/07/08\", \"n_subscriber\": 12336, \"n_review\": 2168}, {\"date\": \"2021/07/09\", \"n_subscriber\": 12344, \"n_review\": 2172}, {\"date\": \"2021/07/10\", \"n_subscriber\": 12347, \"n_review\": 2173}, {\"date\": \"2021/07/11\", \"n_subscriber\": 12349, \"n_review\": 2175}, {\"date\": \"2021/07/12\", \"n_subscriber\": 12363, \"n_review\": 2175}, {\"date\": \"2021/07/13\", \"n_subscriber\": 12375, \"n_review\": 2176}, {\"date\": \"2021/07/14\", \"n_subscriber\": 12384, \"n_review\": 2179}, {\"date\": \"2021/07/15\", \"n_subscriber\": 12394, \"n_review\": 2182}, {\"date\": \"2021/07/16\", \"n_subscriber\": 12399, \"n_review\": 2185}, {\"date\": \"2021/07/17\", \"n_subscriber\": 12404, \"n_review\": 2185}, {\"date\": \"2021/07/18\", \"n_subscriber\": 12409, \"n_review\": 2191}, {\"date\": \"2021/07/19\", \"n_subscriber\": 12426, \"n_review\": 2193}, {\"date\": \"2021/07/20\", \"n_subscriber\": 12440, \"n_review\": 2198}, {\"date\": \"2021/07/21\", \"n_subscriber\": 12450, \"n_review\": 2198}, {\"date\": \"2021/07/22\", \"n_subscriber\": 12458, \"n_review\": 2198}, {\"date\": \"2021/07/23\", \"n_subscriber\": 12460, \"n_review\": 2177}, {\"date\": \"2021/07/24\", \"n_subscriber\": 12462, \"n_review\": 2202}, {\"date\": \"2021/07/25\", \"n_subscriber\": 12464, \"n_review\": 2202}, {\"date\": \"2021/07/26\", \"n_subscriber\": 12466, \"n_review\": 2205}, {\"date\": \"2021/07/27\", \"n_subscriber\": 12486, \"n_review\": 2206}, {\"date\": \"2021/07/28\", \"n_subscriber\": 12492, \"n_review\": 2211}, {\"date\": \"2021/07/29\", \"n_subscriber\": 12513, \"n_review\": 2211}, {\"date\": \"2021/07/30\", \"n_subscriber\": 12523, \"n_review\": 2213}, {\"date\": \"2021/07/31\", \"n_subscriber\": 12529, \"n_review\": 2213}, {\"date\": \"2021/08/01\", \"n_subscriber\": 12531, \"n_review\": 2215}, {\"date\": \"2021/08/02\", \"n_subscriber\": 12541, \"n_review\": 2217}, {\"date\": \"2021/08/03\", \"n_subscriber\": 12559, \"n_review\": 2220}, {\"date\": \"2021/08/04\", \"n_subscriber\": 12573, \"n_review\": 2223}, {\"date\": \"2021/08/05\", \"n_subscriber\": 12579, \"n_review\": 2225}, {\"date\": \"2021/08/06\", \"n_subscriber\": 12581, \"n_review\": 2227}, {\"date\": \"2021/08/07\", \"n_subscriber\": 12586, \"n_review\": 2228}, {\"date\": \"2021/08/08\", \"n_subscriber\": 12592, \"n_review\": 2228}, {\"date\": \"2021/08/09\", \"n_subscriber\": 12608, \"n_review\": 2230}, {\"date\": \"2021/08/10\", \"n_subscriber\": 12627, \"n_review\": 2231}, {\"date\": \"2021/08/11\", \"n_subscriber\": 12641, \"n_review\": 2235}, {\"date\": \"2021/08/12\", \"n_subscriber\": 12654, \"n_review\": 2238}, {\"date\": \"2021/08/13\", \"n_subscriber\": 12666, \"n_review\": 2239}, {\"date\": \"2021/08/14\", \"n_subscriber\": 12673, \"n_review\": 2239}, {\"date\": \"2021/08/15\", \"n_subscriber\": 12685, \"n_review\": 2241}, {\"date\": \"2021/08/16\", \"n_subscriber\": 12703, \"n_review\": 2242}, {\"date\": \"2021/08/17\", \"n_subscriber\": 12728, \"n_review\": 2247}, {\"date\": \"2021/08/18\", \"n_subscriber\": 12746, \"n_review\": 2249}, {\"date\": \"2021/08/19\", \"n_subscriber\": 12796, \"n_review\": 2249}, {\"date\": \"2021/08/20\", \"n_subscriber\": 12807, \"n_review\": 2254}, {\"date\": \"2021/08/21\", \"n_subscriber\": 12808, \"n_review\": 2257}, {\"date\": \"2021/08/22\", \"n_subscriber\": 12811, \"n_review\": 2260}, {\"date\": \"2021/08/23\", \"n_subscriber\": 12819, \"n_review\": 2262}, {\"date\": \"2021/08/24\", \"n_subscriber\": 12822, \"n_review\": 2262}, {\"date\": \"2021/08/25\", \"n_subscriber\": 12835, \"n_review\": 2266}, {\"date\": \"2021/08/26\", \"n_subscriber\": 12845, \"n_review\": 2267}, {\"date\": \"2021/08/27\", \"n_subscriber\": 12859, \"n_review\": 2268}, {\"date\": \"2021/08/28\", \"n_subscriber\": 12866, \"n_review\": 2272}, {\"date\": \"2021/08/29\", \"n_subscriber\": 12872, \"n_review\": 2276}, {\"date\": \"2021/08/30\", \"n_subscriber\": 12880, \"n_review\": 2279}, {\"date\": \"2021/08/31\", \"n_subscriber\": 12881, \"n_review\": 2280}, {\"date\": \"2021/09/01\", \"n_subscriber\": 12888, \"n_review\": 2284}, {\"date\": \"2021/09/02\", \"n_subscriber\": 12889, \"n_review\": 2287}, {\"date\": \"2021/09/03\", \"n_subscriber\": 12892, \"n_review\": 2290}, {\"date\": \"2021/09/04\", \"n_subscriber\": 12893, \"n_review\": 2290}, {\"date\": \"2021/09/05\", \"n_subscriber\": 12901, \"n_review\": 2291}, {\"date\": \"2021/09/06\", \"n_subscriber\": 12918, \"n_review\": 2291}, {\"date\": \"2021/09/07\", \"n_subscriber\": 12927, \"n_review\": 2297}, {\"date\": \"2021/09/08\", \"n_subscriber\": 12934, \"n_review\": 2297}, {\"date\": \"2021/09/09\", \"n_subscriber\": 12939, \"n_review\": 2297}, {\"date\": \"2021/09/10\", \"n_subscriber\": 12944, \"n_review\": 2297}, {\"date\": \"2021/09/11\", \"n_subscriber\": 12946, \"n_review\": 2306}, {\"date\": \"2021/09/12\", \"n_subscriber\": 12961, \"n_review\": 2306}, {\"date\": \"2021/09/13\", \"n_subscriber\": 12965, \"n_review\": 2308}, {\"date\": \"2021/09/14\", \"n_subscriber\": 12965, \"n_review\": 2309}, {\"date\": \"2021/09/15\", \"n_subscriber\": 12978, \"n_review\": 2310}, {\"date\": \"2021/09/16\", \"n_subscriber\": 13003, \"n_review\": 2315}, {\"date\": \"2021/09/17\", \"n_subscriber\": 13006, \"n_review\": 2319}, {\"date\": \"2021/09/18\", \"n_subscriber\": 13010, \"n_review\": 2320}, {\"date\": \"2021/09/19\", \"n_subscriber\": 13022, \"n_review\": 2321}, {\"date\": \"2021/09/20\", \"n_subscriber\": 13044, \"n_review\": 2322}, {\"date\": \"2021/09/21\", \"n_subscriber\": 13049, \"n_review\": 2325}, {\"date\": \"2021/09/22\", \"n_subscriber\": 13050, \"n_review\": 2327}, {\"date\": \"2021/09/23\", \"n_subscriber\": 13053, \"n_review\": 2330}, {\"date\": \"2021/09/24\", \"n_subscriber\": 13054, \"n_review\": 2333}, {\"date\": \"2021/09/25\", \"n_subscriber\": 13058, \"n_review\": 2335}, {\"date\": \"2021/09/26\", \"n_subscriber\": 13058, \"n_review\": 2337}, {\"date\": \"2021/09/27\", \"n_subscriber\": 13067, \"n_review\": 2337}, {\"date\": \"2021/09/28\", \"n_subscriber\": 13083, \"n_review\": 2339}, {\"date\": \"2021/09/29\", \"n_subscriber\": 13098, \"n_review\": 2342}, {\"date\": \"2021/09/30\", \"n_subscriber\": 13109, \"n_review\": 2344}, {\"date\": \"2021/10/01\", \"n_subscriber\": 13118, \"n_review\": 2346}, {\"date\": \"2021/10/02\", \"n_subscriber\": 13122, \"n_review\": 2348}, {\"date\": \"2021/10/03\", \"n_subscriber\": 13130, \"n_review\": 2349}, {\"date\": \"2021/10/04\", \"n_subscriber\": 13133, \"n_review\": 2351}, {\"date\": \"2021/10/05\", \"n_subscriber\": 13142, \"n_review\": 2352}, {\"date\": \"2021/10/06\", \"n_subscriber\": 13147, \"n_review\": 2355}, {\"date\": \"2021/10/07\", \"n_subscriber\": 13151, \"n_review\": 2356}, {\"date\": \"2021/10/08\", \"n_subscriber\": 13157, \"n_review\": 2357}, {\"date\": \"2021/10/09\", \"n_subscriber\": 13163, \"n_review\": 2357}, {\"date\": \"2021/10/10\", \"n_subscriber\": 13166, \"n_review\": 2358}, {\"date\": \"2021/10/11\", \"n_subscriber\": 13176, \"n_review\": 2358}, {\"date\": \"2021/10/12\", \"n_subscriber\": 13196, \"n_review\": 2361}, {\"date\": \"2021/10/13\", \"n_subscriber\": 13204, \"n_review\": 2363}, {\"date\": \"2021/10/14\", \"n_subscriber\": 13215, \"n_review\": 2363}, {\"date\": \"2021/10/15\", \"n_subscriber\": 13231, \"n_review\": 2364}, {\"date\": \"2021/10/16\", \"n_subscriber\": 13239, \"n_review\": 2364}, {\"date\": \"2021/10/17\", \"n_subscriber\": 13244, \"n_review\": 2365}, {\"date\": \"2021/10/18\", \"n_subscriber\": 13249, \"n_review\": 2367}, {\"date\": \"2021/10/19\", \"n_subscriber\": 13256, \"n_review\": 2368}, {\"date\": \"2021/10/20\", \"n_subscriber\": 13260, \"n_review\": 2368}, {\"date\": \"2021/10/21\", \"n_subscriber\": 13266, \"n_review\": 2368}, {\"date\": \"2021/10/22\", \"n_subscriber\": 13272, \"n_review\": 2367}, {\"date\": \"2021/10/23\", \"n_subscriber\": 13283, \"n_review\": 2369}, {\"date\": \"2021/10/24\", \"n_subscriber\": 13283, \"n_review\": 2369}, {\"date\": \"2021/10/25\", \"n_subscriber\": 13288, \"n_review\": 2370}, {\"date\": \"2021/10/26\", \"n_subscriber\": 13296, \"n_review\": 2374}, {\"date\": \"2021/10/27\", \"n_subscriber\": 13302, \"n_review\": 2375}, {\"date\": \"2021/10/28\", \"n_subscriber\": 13310, \"n_review\": 2377}, {\"date\": \"2021/10/29\", \"n_subscriber\": 13323, \"n_review\": 2378}, {\"date\": \"2021/10/30\", \"n_subscriber\": 13328, \"n_review\": 2378}, {\"date\": \"2021/10/31\", \"n_subscriber\": 13331, \"n_review\": 2381}, {\"date\": \"2021/11/01\", \"n_subscriber\": 13343, \"n_review\": 2381}, {\"date\": \"2021/11/02\", \"n_subscriber\": 13351, \"n_review\": 2383}, {\"date\": \"2021/11/03\", \"n_subscriber\": 13355, \"n_review\": 2388}, {\"date\": \"2021/11/04\", \"n_subscriber\": 13357, \"n_review\": 2388}, {\"date\": \"2021/11/05\", \"n_subscriber\": 13359, \"n_review\": 2389}, {\"date\": \"2021/11/06\", \"n_subscriber\": 13365, \"n_review\": 2392}, {\"date\": \"2021/11/07\", \"n_subscriber\": 13369, \"n_review\": 2392}, {\"date\": \"2021/11/08\", \"n_subscriber\": 13386, \"n_review\": 2393}, {\"date\": \"2021/11/09\", \"n_subscriber\": 13411, \"n_review\": 2395}, {\"date\": \"2021/11/10\", \"n_subscriber\": 13417, \"n_review\": 2402}, {\"date\": \"2021/11/11\", \"n_subscriber\": 13430, \"n_review\": 2402}, {\"date\": \"2021/11/12\", \"n_subscriber\": 13444, \"n_review\": 2403}, {\"date\": \"2021/11/13\", \"n_subscriber\": 13447, \"n_review\": 2406}, {\"date\": \"2021/11/14\", \"n_subscriber\": 13452, \"n_review\": 2407}, {\"date\": \"2021/11/15\", \"n_subscriber\": 13454, \"n_review\": 2408}, {\"date\": \"2021/11/16\", \"n_subscriber\": 13460, \"n_review\": 2411}, {\"date\": \"2021/11/17\", \"n_subscriber\": 13470, \"n_review\": 2413}, {\"date\": \"2021/11/18\", \"n_subscriber\": 13475, \"n_review\": 2414}, {\"date\": \"2021/11/19\", \"n_subscriber\": 13490, \"n_review\": 2415}, {\"date\": \"2021/11/20\", \"n_subscriber\": 13528, \"n_review\": 2417}, {\"date\": \"2021/11/21\", \"n_subscriber\": 13549, \"n_review\": 2420}, {\"date\": \"2021/11/22\", \"n_subscriber\": 13575, \"n_review\": 2421}, {\"date\": \"2021/11/23\", \"n_subscriber\": 13605, \"n_review\": 2425}, {\"date\": \"2021/11/24\", \"n_subscriber\": 13635, \"n_review\": 2430}, {\"date\": \"2021/11/25\", \"n_subscriber\": 13691, \"n_review\": 2434}, {\"date\": \"2021/11/26\", \"n_subscriber\": 13759, \"n_review\": 2437}, {\"date\": \"2021/11/27\", \"n_subscriber\": 13846, \"n_review\": 2440}, {\"date\": \"2021/11/28\", \"n_subscriber\": 13851, \"n_review\": 2441}, {\"date\": \"2021/11/29\", \"n_subscriber\": 13865, \"n_review\": 2443}, {\"date\": \"2021/11/30\", \"n_subscriber\": 13904, \"n_review\": 2445}, {\"date\": \"2021/12/01\", \"n_subscriber\": 13965, \"n_review\": 2445}, {\"date\": \"2021/12/02\", \"n_subscriber\": 14052, \"n_review\": 2451}, {\"date\": \"2021/12/03\", \"n_subscriber\": 14056, \"n_review\": 2453}, {\"date\": \"2021/12/04\", \"n_subscriber\": 14058, \"n_review\": 2453}, {\"date\": \"2021/12/05\", \"n_subscriber\": 14072, \"n_review\": 2454}, {\"date\": \"2021/12/06\", \"n_subscriber\": 14088, \"n_review\": 2454}, {\"date\": \"2021/12/07\", \"n_subscriber\": 14114, \"n_review\": 2455}, {\"date\": \"2021/12/08\", \"n_subscriber\": 14132, \"n_review\": 2460}, {\"date\": \"2021/12/09\", \"n_subscriber\": 14136, \"n_review\": 2460}, {\"date\": \"2021/12/10\", \"n_subscriber\": 14144, \"n_review\": 2466}, {\"date\": \"2021/12/11\", \"n_subscriber\": 14147, \"n_review\": 2469}, {\"date\": \"2021/12/12\", \"n_subscriber\": 14157, \"n_review\": 2472}, {\"date\": \"2021/12/13\", \"n_subscriber\": 14177, \"n_review\": 2473}, {\"date\": \"2021/12/14\", \"n_subscriber\": 14186, \"n_review\": 2476}, {\"date\": \"2021/12/15\", \"n_subscriber\": 14204, \"n_review\": 2479}, {\"date\": \"2021/12/16\", \"n_subscriber\": 14207, \"n_review\": 2479}, {\"date\": \"2021/12/17\", \"n_subscriber\": 14216, \"n_review\": 2481}, {\"date\": \"2021/12/18\", \"n_subscriber\": 14226, \"n_review\": 2483}, {\"date\": \"2021/12/19\", \"n_subscriber\": 14231, \"n_review\": 2484}, {\"date\": \"2021/12/20\", \"n_subscriber\": 14236, \"n_review\": 2485}, {\"date\": \"2021/12/21\", \"n_subscriber\": 14241, \"n_review\": 2486}, {\"date\": \"2021/12/22\", \"n_subscriber\": 14244, \"n_review\": 2488}, {\"date\": \"2021/12/23\", \"n_subscriber\": 14258, \"n_review\": 2488}, {\"date\": \"2021/12/24\", \"n_subscriber\": 14262, \"n_review\": 2489}, {\"date\": \"2021/12/25\", \"n_subscriber\": 14272, \"n_review\": 2497}, {\"date\": \"2021/12/26\", \"n_subscriber\": 14276, \"n_review\": 2499}, {\"date\": \"2021/12/27\", \"n_subscriber\": 14288, \"n_review\": 2499}, {\"date\": \"2021/12/28\", \"n_subscriber\": 14295, \"n_review\": 2500}, {\"date\": \"2021/12/29\", \"n_subscriber\": 14312, \"n_review\": 2503}, {\"date\": \"2021/12/30\", \"n_subscriber\": 14331, \"n_review\": 2504}, {\"date\": \"2021/12/31\", \"n_subscriber\": 14345, \"n_review\": 2506}, {\"date\": \"2022/01/01\", \"n_subscriber\": 14364, \"n_review\": 2508}, {\"date\": \"2022/01/02\", \"n_subscriber\": 14367, \"n_review\": 2508}, {\"date\": \"2022/01/03\", \"n_subscriber\": 14389, \"n_review\": 2508}, {\"date\": \"2022/01/04\", \"n_subscriber\": 14421, \"n_review\": 2515}, {\"date\": \"2022/01/05\", \"n_subscriber\": 14447, \"n_review\": 2516}, {\"date\": \"2022/01/06\", \"n_subscriber\": 14489, \"n_review\": 2520}, {\"date\": \"2022/01/07\", \"n_subscriber\": 14532, \"n_review\": 2523}, {\"date\": \"2022/01/08\", \"n_subscriber\": 14538, \"n_review\": 2523}, {\"date\": \"2022/01/09\", \"n_subscriber\": 14545, \"n_review\": 2530}, {\"date\": \"2022/01/10\", \"n_subscriber\": 14549, \"n_review\": 2534}, {\"date\": \"2022/01/11\", \"n_subscriber\": 14555, \"n_review\": 2534}, {\"date\": \"2022/01/12\", \"n_subscriber\": 14565, \"n_review\": 2537}, {\"date\": \"2022/01/13\", \"n_subscriber\": 14576, \"n_review\": 2540}, {\"date\": \"2022/01/14\", \"n_subscriber\": 14595, \"n_review\": 2540}, {\"date\": \"2022/01/15\", \"n_subscriber\": 14603, \"n_review\": 2543}, {\"date\": \"2022/01/16\", \"n_subscriber\": 14610, \"n_review\": 2542}, {\"date\": \"2022/01/17\", \"n_subscriber\": 14614, \"n_review\": 2547}, {\"date\": \"2022/01/18\", \"n_subscriber\": 14627, \"n_review\": 2549}, {\"date\": \"2022/01/19\", \"n_subscriber\": 14648, \"n_review\": 2549}, {\"date\": \"2022/01/20\", \"n_subscriber\": 14660, \"n_review\": 2550}, {\"date\": \"2022/01/21\", \"n_subscriber\": 14671, \"n_review\": 2556}, {\"date\": \"2022/01/22\", \"n_subscriber\": 14676, \"n_review\": 2557}, {\"date\": \"2022/01/23\", \"n_subscriber\": 14684, \"n_review\": 2557}, {\"date\": \"2022/01/24\", \"n_subscriber\": 14689, \"n_review\": 2560}, {\"date\": \"2022/01/25\", \"n_subscriber\": 14705, \"n_review\": 2562}, {\"date\": \"2022/01/26\", \"n_subscriber\": 14712, \"n_review\": 2565}, {\"date\": \"2022/01/27\", \"n_subscriber\": 14719, \"n_review\": 2570}, {\"date\": \"2022/01/28\", \"n_subscriber\": 14728, \"n_review\": 2571}, {\"date\": \"2022/01/29\", \"n_subscriber\": 14737, \"n_review\": 2572}, {\"date\": \"2022/01/30\", \"n_subscriber\": 14747, \"n_review\": 2575}, {\"date\": \"2022/01/31\", \"n_subscriber\": 14759, \"n_review\": 2579}, {\"date\": \"2022/02/01\", \"n_subscriber\": 14769, \"n_review\": 2581}, {\"date\": \"2022/02/02\", \"n_subscriber\": 14785, \"n_review\": 2584}, {\"date\": \"2022/02/03\", \"n_subscriber\": 14808, \"n_review\": 2588}, {\"date\": \"2022/02/04\", \"n_subscriber\": 14820, \"n_review\": 2589}, {\"date\": \"2022/02/05\", \"n_subscriber\": 14825, \"n_review\": 2592}, {\"date\": \"2022/02/06\", \"n_subscriber\": 14837, \"n_review\": 2595}, {\"date\": \"2022/02/07\", \"n_subscriber\": 14849, \"n_review\": 2595}, {\"date\": \"2022/02/08\", \"n_subscriber\": 14869, \"n_review\": 2599}, {\"date\": \"2022/02/09\", \"n_subscriber\": 14872, \"n_review\": 2599}, {\"date\": \"2022/02/10\", \"n_subscriber\": 14874, \"n_review\": 2599}, {\"date\": \"2022/02/11\", \"n_subscriber\": 14882, \"n_review\": 2600}, {\"date\": \"2022/02/12\", \"n_subscriber\": 14889, \"n_review\": 2604}, {\"date\": \"2022/02/13\", \"n_subscriber\": 14900, \"n_review\": 2608}, {\"date\": \"2022/02/14\", \"n_subscriber\": 14912, \"n_review\": 2610}, {\"date\": \"2022/02/15\", \"n_subscriber\": 14923, \"n_review\": 2614}, {\"date\": \"2022/02/16\", \"n_subscriber\": 14935, \"n_review\": 2614}, {\"date\": \"2022/02/17\", \"n_subscriber\": 14939, \"n_review\": 2614}, {\"date\": \"2022/02/18\", \"n_subscriber\": 14949, \"n_review\": 2614}, {\"date\": \"2022/02/19\", \"n_subscriber\": 14955, \"n_review\": 2614}, {\"date\": \"2022/02/20\", \"n_subscriber\": 14960, \"n_review\": 2618}, {\"date\": \"2022/02/21\", \"n_subscriber\": 14970, \"n_review\": 2618}, {\"date\": \"2022/02/22\", \"n_subscriber\": 14983, \"n_review\": 2621}, {\"date\": \"2022/02/23\", \"n_subscriber\": 14997, \"n_review\": 2622}, {\"date\": \"2022/02/24\", \"n_subscriber\": 15004, \"n_review\": 2624}, {\"date\": \"2022/02/25\", \"n_subscriber\": 15307, \"n_review\": 2625}, {\"date\": \"2022/02/26\", \"n_subscriber\": 15405, \"n_review\": 2625}, {\"date\": \"2022/02/27\", \"n_subscriber\": 15475, \"n_review\": 2632}, {\"date\": \"2022/02/28\", \"n_subscriber\": 15533, \"n_review\": 2638}, {\"date\": \"2022/03/01\", \"n_subscriber\": 15579, \"n_review\": 2645}, {\"date\": \"2022/03/02\", \"n_subscriber\": 15591, \"n_review\": 2649}, {\"date\": \"2022/03/03\", \"n_subscriber\": 15595, \"n_review\": 2649}, {\"date\": \"2022/03/04\", \"n_subscriber\": 15601, \"n_review\": 2654}, {\"date\": \"2022/03/05\", \"n_subscriber\": 15607, \"n_review\": 2663}, {\"date\": \"2022/03/06\", \"n_subscriber\": 15612, \"n_review\": 2667}, {\"date\": \"2022/03/07\", \"n_subscriber\": 15621, \"n_review\": 2673}, {\"date\": \"2022/03/08\", \"n_subscriber\": 15634, \"n_review\": 2673}, {\"date\": \"2022/03/09\", \"n_subscriber\": 15648, \"n_review\": 2675}, {\"date\": \"2022/03/10\", \"n_subscriber\": 15662, \"n_review\": 2680}, {\"date\": \"2022/03/11\", \"n_subscriber\": 15674, \"n_review\": 2680}, {\"date\": \"2022/03/12\", \"n_subscriber\": 15676, \"n_review\": 2680}, {\"date\": \"2022/03/13\", \"n_subscriber\": 15683, \"n_review\": 2683}, {\"date\": \"2022/03/14\", \"n_subscriber\": 15692, \"n_review\": 2688}, {\"date\": \"2022/03/15\", \"n_subscriber\": 15703, \"n_review\": 2688}, {\"date\": \"2022/03/16\", \"n_subscriber\": 15706, \"n_review\": 2688}, {\"date\": \"2022/03/17\", \"n_subscriber\": 15711, \"n_review\": 2692}, {\"date\": \"2022/03/18\", \"n_subscriber\": 15725, \"n_review\": 2694}, {\"date\": \"2022/03/19\", \"n_subscriber\": 15728, \"n_review\": 2697}, {\"date\": \"2022/03/20\", \"n_subscriber\": 15736, \"n_review\": 2698}, {\"date\": \"2022/03/21\", \"n_subscriber\": 15745, \"n_review\": 2698}, {\"date\": \"2022/03/22\", \"n_subscriber\": 15751, \"n_review\": 2704}, {\"date\": \"2022/03/23\", \"n_subscriber\": 15768, \"n_review\": 2707}, {\"date\": \"2022/03/24\", \"n_subscriber\": 15783, \"n_review\": 2712}, {\"date\": \"2022/03/25\", \"n_subscriber\": 15792, \"n_review\": 2712}, {\"date\": \"2022/03/26\", \"n_subscriber\": 15796, \"n_review\": 2712}, {\"date\": \"2022/03/27\", \"n_subscriber\": 15801, \"n_review\": 2712}, {\"date\": \"2022/03/28\", \"n_subscriber\": 15809, \"n_review\": 2715}, {\"date\": \"2022/03/29\", \"n_subscriber\": 15828, \"n_review\": 2717}, {\"date\": \"2022/03/30\", \"n_subscriber\": 15833, \"n_review\": 2721}, {\"date\": \"2022/03/31\", \"n_subscriber\": 15842, \"n_review\": 2723}, {\"date\": \"2022/04/01\", \"n_subscriber\": 15864, \"n_review\": 2729}, {\"date\": \"2022/04/02\", \"n_subscriber\": 15872, \"n_review\": 2731}, {\"date\": \"2022/04/03\", \"n_subscriber\": 15877, \"n_review\": 2733}, {\"date\": \"2022/04/05\", \"n_subscriber\": 15908, \"n_review\": 2736}, {\"date\": \"2022/04/06\", \"n_subscriber\": 15921, \"n_review\": 2739}, {\"date\": \"2022/04/07\", \"n_subscriber\": 15936, \"n_review\": 2743}, {\"date\": \"2022/04/08\", \"n_subscriber\": 15943, \"n_review\": 2745}, {\"date\": \"2022/04/09\", \"n_subscriber\": 15945, \"n_review\": 2745}, {\"date\": \"2022/04/10\", \"n_subscriber\": 15951, \"n_review\": 2745}, {\"date\": \"2022/04/11\", \"n_subscriber\": 15958, \"n_review\": 2745}, {\"date\": \"2022/04/12\", \"n_subscriber\": 15969, \"n_review\": 2748}, {\"date\": \"2022/04/13\", \"n_subscriber\": 15979, \"n_review\": 2753}, {\"date\": \"2022/04/14\", \"n_subscriber\": 16011, \"n_review\": 2754}, {\"date\": \"2022/04/15\", \"n_subscriber\": 16023, \"n_review\": 2755}, {\"date\": \"2022/04/16\", \"n_subscriber\": 16033, \"n_review\": 2761}, {\"date\": \"2022/04/17\", \"n_subscriber\": 16040, \"n_review\": 2761}, {\"date\": \"2022/04/18\", \"n_subscriber\": 16047, \"n_review\": 2762}, {\"date\": \"2022/04/19\", \"n_subscriber\": 16053, \"n_review\": 2766}, {\"date\": \"2022/04/20\", \"n_subscriber\": 16061, \"n_review\": 2766}, {\"date\": \"2022/04/21\", \"n_subscriber\": 16067, \"n_review\": 2768}, {\"date\": \"2022/04/22\", \"n_subscriber\": 16083, \"n_review\": 2768}, {\"date\": \"2022/04/23\", \"n_subscriber\": 16088, \"n_review\": 2769}, {\"date\": \"2022/04/24\", \"n_subscriber\": 16093, \"n_review\": 2770}, {\"date\": \"2022/04/25\", \"n_subscriber\": 16098, \"n_review\": 2771}, {\"date\": \"2022/04/26\", \"n_subscriber\": 16110, \"n_review\": 2772}, {\"date\": \"2022/04/27\", \"n_subscriber\": 16120, \"n_review\": 2774}, {\"date\": \"2022/04/28\", \"n_subscriber\": 16131, \"n_review\": 2775}, {\"date\": \"2022/04/29\", \"n_subscriber\": 16148, \"n_review\": 2776}, {\"date\": \"2022/04/30\", \"n_subscriber\": 16154, \"n_review\": 2776}, {\"date\": \"2022/05/01\", \"n_subscriber\": 16155, \"n_review\": 2780}, {\"date\": \"2022/05/02\", \"n_subscriber\": 16161, \"n_review\": 2782}, {\"date\": \"2022/05/03\", \"n_subscriber\": 16162, \"n_review\": 2783}, {\"date\": \"2022/05/04\", \"n_subscriber\": 16167, \"n_review\": 2787}, {\"date\": \"2022/05/05\", \"n_subscriber\": 16173, \"n_review\": 2788}, {\"date\": \"2022/05/06\", \"n_subscriber\": 16188, \"n_review\": 2788}, {\"date\": \"2022/05/07\", \"n_subscriber\": 16199, \"n_review\": 2789}, {\"date\": \"2022/05/08\", \"n_subscriber\": 16204, \"n_review\": 2791}, {\"date\": \"2022/05/09\", \"n_subscriber\": 16215, \"n_review\": 2793}, {\"date\": \"2022/05/10\", \"n_subscriber\": 16223, \"n_review\": 2793}, {\"date\": \"2022/05/11\", \"n_subscriber\": 16234, \"n_review\": 2797}, {\"date\": \"2022/05/12\", \"n_subscriber\": 16249, \"n_review\": 2800}, {\"date\": \"2022/05/13\", \"n_subscriber\": 16256, \"n_review\": 2801}, {\"date\": \"2022/05/14\", \"n_subscriber\": 16261, \"n_review\": 2802}, {\"date\": \"2022/05/15\", \"n_subscriber\": 16266, \"n_review\": 2803}, {\"date\": \"2022/05/16\", \"n_subscriber\": 16275, \"n_review\": 2804}, {\"date\": \"2022/05/17\", \"n_subscriber\": 16284, \"n_review\": 2806}, {\"date\": \"2022/05/18\", \"n_subscriber\": 16297, \"n_review\": 2811}, {\"date\": \"2022/05/19\", \"n_subscriber\": 16311, \"n_review\": 2813}, {\"date\": \"2022/05/20\", \"n_subscriber\": 16326, \"n_review\": 2817}, {\"date\": \"2022/05/21\", \"n_subscriber\": 16341, \"n_review\": 2818}, {\"date\": \"2022/05/22\", \"n_subscriber\": 16348, \"n_review\": 2819}, {\"date\": \"2022/05/23\", \"n_subscriber\": 16369, \"n_review\": 2820}, {\"date\": \"2022/05/24\", \"n_subscriber\": 16384, \"n_review\": 2820}, {\"date\": \"2022/05/25\", \"n_subscriber\": 16399, \"n_review\": 2823}, {\"date\": \"2022/05/26\", \"n_subscriber\": 16422, \"n_review\": 2823}, {\"date\": \"2022/05/27\", \"n_subscriber\": 16425, \"n_review\": 2826}, {\"date\": \"2022/05/28\", \"n_subscriber\": 16430, \"n_review\": 2827}, {\"date\": \"2022/05/29\", \"n_subscriber\": 16432, \"n_review\": 2827}, {\"date\": \"2022/05/30\", \"n_subscriber\": 16441, \"n_review\": 2830}, {\"date\": \"2022/05/31\", \"n_subscriber\": 16446, \"n_review\": 2830}, {\"date\": \"2022/06/01\", \"n_subscriber\": 16456, \"n_review\": 2830}, {\"date\": \"2022/06/02\", \"n_subscriber\": 16471, \"n_review\": 2830}, {\"date\": \"2022/06/03\", \"n_subscriber\": 16483, \"n_review\": 2830}, {\"date\": \"2022/06/04\", \"n_subscriber\": 16490, \"n_review\": 2840}, {\"date\": \"2022/06/05\", \"n_subscriber\": 16499, \"n_review\": 2840}, {\"date\": \"2022/06/06\", \"n_subscriber\": 16505, \"n_review\": 2842}, {\"date\": \"2022/06/07\", \"n_subscriber\": 16510, \"n_review\": 2844}, {\"date\": \"2022/06/08\", \"n_subscriber\": 16527, \"n_review\": 2848}, {\"date\": \"2022/06/09\", \"n_subscriber\": 16539, \"n_review\": 2851}, {\"date\": \"2022/06/10\", \"n_subscriber\": 16545, \"n_review\": 2854}, {\"date\": \"2022/06/11\", \"n_subscriber\": 16553, \"n_review\": 2856}, {\"date\": \"2022/06/12\", \"n_subscriber\": 16556, \"n_review\": 2858}, {\"date\": \"2022/06/13\", \"n_subscriber\": 16557, \"n_review\": 2859}, {\"date\": \"2022/06/14\", \"n_subscriber\": 16566, \"n_review\": 2859}, {\"date\": \"2022/06/15\", \"n_subscriber\": 16575, \"n_review\": 2863}, {\"date\": \"2022/06/16\", \"n_subscriber\": 16580, \"n_review\": 2866}, {\"date\": \"2022/06/17\", \"n_subscriber\": 16594, \"n_review\": 2866}, {\"date\": \"2022/06/18\", \"n_subscriber\": 16597, \"n_review\": 2868}, {\"date\": \"2022/06/19\", \"n_subscriber\": 16602, \"n_review\": 2868}, {\"date\": \"2022/06/20\", \"n_subscriber\": 16606, \"n_review\": 2869}, {\"date\": \"2022/06/21\", \"n_subscriber\": 16620, \"n_review\": 2871}, {\"date\": \"2022/06/22\", \"n_subscriber\": 16629, \"n_review\": 2874}, {\"date\": \"2022/06/23\", \"n_subscriber\": 16633, \"n_review\": 2878}, {\"date\": \"2022/06/24\", \"n_subscriber\": 16638, \"n_review\": 2881}, {\"date\": \"2022/06/25\", \"n_subscriber\": 16646, \"n_review\": 2882}, {\"date\": \"2022/06/26\", \"n_subscriber\": 16650, \"n_review\": 2884}, {\"date\": \"2022/06/27\", \"n_subscriber\": 16660, \"n_review\": 2885}, {\"date\": \"2022/06/28\", \"n_subscriber\": 16669, \"n_review\": 2886}, {\"date\": \"2022/06/29\", \"n_subscriber\": 16680, \"n_review\": 2887}, {\"date\": \"2022/06/30\", \"n_subscriber\": 16685, \"n_review\": 2890}, {\"date\": \"2022/07/01\", \"n_subscriber\": 16698, \"n_review\": 2890}, {\"date\": \"2022/07/02\", \"n_subscriber\": 16700, \"n_review\": 2892}, {\"date\": \"2022/07/03\", \"n_subscriber\": 16703, \"n_review\": 2892}, {\"date\": \"2022/07/04\", \"n_subscriber\": 16709, \"n_review\": 2892}, {\"date\": \"2022/07/05\", \"n_subscriber\": 16716, \"n_review\": 2892}, {\"date\": \"2022/07/06\", \"n_subscriber\": 16723, \"n_review\": 2894}, {\"date\": \"2022/07/07\", \"n_subscriber\": 16736, \"n_review\": 2894}, {\"date\": \"2022/07/08\", \"n_subscriber\": 16745, \"n_review\": 2896}, {\"date\": \"2022/07/09\", \"n_subscriber\": 16750, \"n_review\": 2899}, {\"date\": \"2022/07/10\", \"n_subscriber\": 16757, \"n_review\": 2902}, {\"date\": \"2022/07/11\", \"n_subscriber\": 16764, \"n_review\": 2903}, {\"date\": \"2022/07/12\", \"n_subscriber\": 16776, \"n_review\": 2903}, {\"date\": \"2022/07/13\", \"n_subscriber\": 16788, \"n_review\": 2903}, {\"date\": \"2022/07/14\", \"n_subscriber\": 16797, \"n_review\": 2907}, {\"date\": \"2022/07/15\", \"n_subscriber\": 16809, \"n_review\": 2909}, {\"date\": \"2022/07/16\", \"n_subscriber\": 16812, \"n_review\": 2910}, {\"date\": \"2022/07/17\", \"n_subscriber\": 16814, \"n_review\": 2910}, {\"date\": \"2022/07/18\", \"n_subscriber\": 16820, \"n_review\": 2913}, {\"date\": \"2022/07/19\", \"n_subscriber\": 16827, \"n_review\": 2913}, {\"date\": \"2022/07/20\", \"n_subscriber\": 16837, \"n_review\": 2913}, {\"date\": \"2022/07/21\", \"n_subscriber\": 16844, \"n_review\": 2913}, {\"date\": \"2022/07/22\", \"n_subscriber\": 16850, \"n_review\": 2913}, {\"date\": \"2022/07/23\", \"n_subscriber\": 16853, \"n_review\": 2918}, {\"date\": \"2022/07/24\", \"n_subscriber\": 16858, \"n_review\": 2919}, {\"date\": \"2022/07/25\", \"n_subscriber\": 16861, \"n_review\": 2920}, {\"date\": \"2022/07/26\", \"n_subscriber\": 16874, \"n_review\": 2920}, {\"date\": \"2022/07/27\", \"n_subscriber\": 16883, \"n_review\": 2924}, {\"date\": \"2022/07/28\", \"n_subscriber\": 16899, \"n_review\": 2924}, {\"date\": \"2022/07/29\", \"n_subscriber\": 16906, \"n_review\": 2924}, {\"date\": \"2022/07/30\", \"n_subscriber\": 16915, \"n_review\": 2924}, {\"date\": \"2022/07/31\", \"n_subscriber\": 16920, \"n_review\": 2927}, {\"date\": \"2022/08/01\", \"n_subscriber\": 16934, \"n_review\": 2930}, {\"date\": \"2022/08/02\", \"n_subscriber\": 16946, \"n_review\": 2930}, {\"date\": \"2022/08/03\", \"n_subscriber\": 16952, \"n_review\": 2932}, {\"date\": \"2022/08/04\", \"n_subscriber\": 16968, \"n_review\": 2932}, {\"date\": \"2022/08/05\", \"n_subscriber\": 16975, \"n_review\": 2935}, {\"date\": \"2022/08/06\", \"n_subscriber\": 16979, \"n_review\": 2940}, {\"date\": \"2022/08/07\", \"n_subscriber\": 16986, \"n_review\": 2942}, {\"date\": \"2022/08/08\", \"n_subscriber\": 16993, \"n_review\": 2942}, {\"date\": \"2022/08/09\", \"n_subscriber\": 17003, \"n_review\": 2945}, {\"date\": \"2022/08/10\", \"n_subscriber\": 17006, \"n_review\": 2945}, {\"date\": \"2022/08/11\", \"n_subscriber\": 17012, \"n_review\": 2946}, {\"date\": \"2022/08/12\", \"n_subscriber\": 17016, \"n_review\": 2947}, {\"date\": \"2022/08/13\", \"n_subscriber\": 17022, \"n_review\": 2947}, {\"date\": \"2022/08/14\", \"n_subscriber\": 17031, \"n_review\": 2947}, {\"date\": \"2022/08/15\", \"n_subscriber\": 17038, \"n_review\": 2951}, {\"date\": \"2022/08/16\", \"n_subscriber\": 17043, \"n_review\": 2951}, {\"date\": \"2022/08/17\", \"n_subscriber\": 17049, \"n_review\": 2951}, {\"date\": \"2022/08/18\", \"n_subscriber\": 17053, \"n_review\": 2951}, {\"date\": \"2022/08/19\", \"n_subscriber\": 17061, \"n_review\": 2951}, {\"date\": \"2022/08/20\", \"n_subscriber\": 17069, \"n_review\": 2951}, {\"date\": \"2022/08/21\", \"n_subscriber\": 17075, \"n_review\": 2951}, {\"date\": \"2022/08/22\", \"n_subscriber\": 17078, \"n_review\": 2951}, {\"date\": \"2022/08/23\", \"n_subscriber\": 17086, \"n_review\": 2965}, {\"date\": \"2022/08/24\", \"n_subscriber\": 17097, \"n_review\": 2971}, {\"date\": \"2022/08/25\", \"n_subscriber\": 17107, \"n_review\": 2972}, {\"date\": \"2022/08/26\", \"n_subscriber\": 17120, \"n_review\": 2975}, {\"date\": \"2022/08/27\", \"n_subscriber\": 17129, \"n_review\": 2976}, {\"date\": \"2022/08/28\", \"n_subscriber\": 17144, \"n_review\": 2978}, {\"date\": \"2022/08/29\", \"n_subscriber\": 17154, \"n_review\": 2980}, {\"date\": \"2022/08/30\", \"n_subscriber\": 17160, \"n_review\": 2982}, {\"date\": \"2022/08/31\", \"n_subscriber\": 17173, \"n_review\": 2982}, {\"date\": \"2022/09/01\", \"n_subscriber\": 17197, \"n_review\": 2985}, {\"date\": \"2022/09/03\", \"n_subscriber\": 17204, \"n_review\": 2989}, {\"date\": \"2022/09/04\", \"n_subscriber\": 17206, \"n_review\": 2992}, {\"date\": \"2022/09/05\", \"n_subscriber\": 17209, \"n_review\": 2992}, {\"date\": \"2022/09/06\", \"n_subscriber\": 17213, \"n_review\": 2993}, {\"date\": \"2022/09/07\", \"n_subscriber\": 17219, \"n_review\": 2993}, {\"date\": \"2022/09/08\", \"n_subscriber\": 17229, \"n_review\": 2993}, {\"date\": \"2022/09/09\", \"n_subscriber\": 17244, \"n_review\": 2995}, {\"date\": \"2022/09/10\", \"n_subscriber\": 17252, \"n_review\": 2995}, {\"date\": \"2022/09/11\", \"n_subscriber\": 17256, \"n_review\": 2999}, {\"date\": \"2022/09/12\", \"n_subscriber\": 17261, \"n_review\": 3002}, {\"date\": \"2022/09/13\", \"n_subscriber\": 17268, \"n_review\": 3002}, {\"date\": \"2022/09/14\", \"n_subscriber\": 17272, \"n_review\": 3002}, {\"date\": \"2022/09/15\", \"n_subscriber\": 17279, \"n_review\": 3007}, {\"date\": \"2022/09/16\", \"n_subscriber\": 17238, \"n_review\": 3008}, {\"date\": \"2022/09/17\", \"n_subscriber\": 17244, \"n_review\": 3008}, {\"date\": \"2022/09/18\", \"n_subscriber\": 17245, \"n_review\": 3008}, {\"date\": \"2022/09/19\", \"n_subscriber\": 17256, \"n_review\": 3008}, {\"date\": \"2022/09/20\", \"n_subscriber\": 17266, \"n_review\": 3008}, {\"date\": \"2022/09/21\", \"n_subscriber\": 17279, \"n_review\": 3009}, {\"date\": \"2022/09/22\", \"n_subscriber\": 17286, \"n_review\": 3010}, {\"date\": \"2022/09/23\", \"n_subscriber\": 17288, \"n_review\": 3010}, {\"date\": \"2022/09/24\", \"n_subscriber\": 17295, \"n_review\": 3012}, {\"date\": \"2022/09/25\", \"n_subscriber\": 17299, \"n_review\": 3012}, {\"date\": \"2022/09/26\", \"n_subscriber\": 17301, \"n_review\": 3017}, {\"date\": \"2022/09/27\", \"n_subscriber\": 17308, \"n_review\": 3018}, {\"date\": \"2022/09/28\", \"n_subscriber\": 17317, \"n_review\": 3019}, {\"date\": \"2022/09/29\", \"n_subscriber\": 17322, \"n_review\": 3021}, {\"date\": \"2022/09/30\", \"n_subscriber\": 17330, \"n_review\": 3023}, {\"date\": \"2022/10/01\", \"n_subscriber\": 17334, \"n_review\": 3023}, {\"date\": \"2022/10/02\", \"n_subscriber\": 17338, \"n_review\": 3024}, {\"date\": \"2022/10/03\", \"n_subscriber\": 17351, \"n_review\": 3024}, {\"date\": \"2022/10/04\", \"n_subscriber\": 17367, \"n_review\": 3026}, {\"date\": \"2022/10/05\", \"n_subscriber\": 17371, \"n_review\": 3028}, {\"date\": \"2022/10/06\", \"n_subscriber\": 17377, \"n_review\": 3029}, {\"date\": \"2022/10/07\", \"n_subscriber\": 17388, \"n_review\": 3030}, {\"date\": \"2022/10/08\", \"n_subscriber\": 17395, \"n_review\": 3033}, {\"date\": \"2022/10/09\", \"n_subscriber\": 17397, \"n_review\": 3035}, {\"date\": \"2022/10/10\", \"n_subscriber\": 17400, \"n_review\": 3036}, {\"date\": \"2022/10/11\", \"n_subscriber\": 17404, \"n_review\": 3036}, {\"date\": \"2022/10/12\", \"n_subscriber\": 17413, \"n_review\": 3036}, {\"date\": \"2022/10/13\", \"n_subscriber\": 17418, \"n_review\": 3039}, {\"date\": \"2022/10/14\", \"n_subscriber\": 17428, \"n_review\": 3039}, {\"date\": \"2022/10/15\", \"n_subscriber\": 17433, \"n_review\": 3040}, {\"date\": \"2022/10/16\", \"n_subscriber\": 17439, \"n_review\": 3042}, {\"date\": \"2022/10/17\", \"n_subscriber\": 17446, \"n_review\": 3042}, {\"date\": \"2022/10/18\", \"n_subscriber\": 17454, \"n_review\": 3042}, {\"date\": \"2022/10/19\", \"n_subscriber\": 17463, \"n_review\": 3043}, {\"date\": \"2022/10/20\", \"n_subscriber\": 17475, \"n_review\": 3045}, {\"date\": \"2022/10/21\", \"n_subscriber\": 17480, \"n_review\": 3047}, {\"date\": \"2022/10/22\", \"n_subscriber\": 17487, \"n_review\": 3048}, {\"date\": \"2022/10/23\", \"n_subscriber\": 17490, \"n_review\": 3048}, {\"date\": \"2022/10/24\", \"n_subscriber\": 17498, \"n_review\": 3048}, {\"date\": \"2022/10/25\", \"n_subscriber\": 17511, \"n_review\": 3050}, {\"date\": \"2022/10/26\", \"n_subscriber\": 17529, \"n_review\": 3051}, {\"date\": \"2022/10/27\", \"n_subscriber\": 17537, \"n_review\": 3053}, {\"date\": \"2022/10/28\", \"n_subscriber\": 17543, \"n_review\": 3053}, {\"date\": \"2022/10/29\", \"n_subscriber\": 17550, \"n_review\": 3053}, {\"date\": \"2022/10/30\", \"n_subscriber\": 17550, \"n_review\": 3053}, {\"date\": \"2022/10/31\", \"n_subscriber\": 17561, \"n_review\": 3053}, {\"date\": \"2022/11/01\", \"n_subscriber\": 17577, \"n_review\": 3058}, {\"date\": \"2022/11/02\", \"n_subscriber\": 17586, \"n_review\": 3062}, {\"date\": \"2022/11/03\", \"n_subscriber\": 17591, \"n_review\": 3062}, {\"date\": \"2022/11/04\", \"n_subscriber\": 17597, \"n_review\": 3062}, {\"date\": \"2022/11/05\", \"n_subscriber\": 17601, \"n_review\": 3067}, {\"date\": \"2022/11/06\", \"n_subscriber\": 17608, \"n_review\": 3067}, {\"date\": \"2022/11/07\", \"n_subscriber\": 17611, \"n_review\": 3067}, {\"date\": \"2022/11/08\", \"n_subscriber\": 17621, \"n_review\": 3067}, {\"date\": \"2022/11/09\", \"n_subscriber\": 17625, \"n_review\": 3069}, {\"date\": \"2022/11/10\", \"n_subscriber\": 17628, \"n_review\": 3071}, {\"date\": \"2022/11/11\", \"n_subscriber\": 17637, \"n_review\": 3073}, {\"date\": \"2022/11/12\", \"n_subscriber\": 17640, \"n_review\": 3073}, {\"date\": \"2022/11/13\", \"n_subscriber\": 17646, \"n_review\": 3073}, {\"date\": \"2022/11/14\", \"n_subscriber\": 17660, \"n_review\": 3075}, {\"date\": \"2022/11/15\", \"n_subscriber\": 17670, \"n_review\": 3078}, {\"date\": \"2022/11/16\", \"n_subscriber\": 17675, \"n_review\": 3079}, {\"date\": \"2022/11/17\", \"n_subscriber\": 17679, \"n_review\": 3079}, {\"date\": \"2022/11/18\", \"n_subscriber\": 17687, \"n_review\": 3083}, {\"date\": \"2022/11/19\", \"n_subscriber\": 17701, \"n_review\": 3084}, {\"date\": \"2022/11/20\", \"n_subscriber\": 17720, \"n_review\": 3085}, {\"date\": \"2022/11/21\", \"n_subscriber\": 17733, \"n_review\": 3086}, {\"date\": \"2022/11/22\", \"n_subscriber\": 17755, \"n_review\": 3087}, {\"date\": \"2022/11/23\", \"n_subscriber\": 17779, \"n_review\": 3088}, {\"date\": \"2022/11/24\", \"n_subscriber\": 17809, \"n_review\": 3091}, {\"date\": \"2022/11/25\", \"n_subscriber\": 17852, \"n_review\": 3093}, {\"date\": \"2022/11/26\", \"n_subscriber\": 17886, \"n_review\": 3093}, {\"date\": \"2022/11/27\", \"n_subscriber\": 17902, \"n_review\": 3096}, {\"date\": \"2022/11/28\", \"n_subscriber\": 17934, \"n_review\": 3097}, {\"date\": \"2022/11/29\", \"n_subscriber\": 17959, \"n_review\": 3100}, {\"date\": \"2023/11/11\", \"n_subscriber\": 20446, \"n_review\": 3489}]}}, {\"mode\": \"vega-lite\"});\n",
       "</script>"
      ],
      "text/plain": [
       "alt.LayerChart(...)"
      ]
     },
     "execution_count": 64,
     "metadata": {},
     "output_type": "execute_result"
    }
   ],
   "source": [
    "chart"
   ]
  }
 ],
 "metadata": {
  "kernelspec": {
   "display_name": "Python 3",
   "language": "python",
   "name": "python3"
  },
  "language_info": {
   "codemirror_mode": {
    "name": "ipython",
    "version": 3
   },
   "file_extension": ".py",
   "mimetype": "text/x-python",
   "name": "python",
   "nbconvert_exporter": "python",
   "pygments_lexer": "ipython3",
   "version": "3.11.5"
  }
 },
 "nbformat": 4,
 "nbformat_minor": 5
}
